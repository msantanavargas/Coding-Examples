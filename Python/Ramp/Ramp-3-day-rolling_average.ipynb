{
 "cells": [
  {
   "cell_type": "markdown",
   "id": "6570bab4-6b71-4d63-944d-d9f44d77cde4",
   "metadata": {},
   "source": [
    "*3-Day Rolling Average*"
   ]
  },
  {
   "cell_type": "code",
   "execution_count": 2,
   "id": "6b305eaf-f01c-4de4-8dbe-968335786713",
   "metadata": {},
   "outputs": [],
   "source": [
    "import datetime\n",
    "import numpy as np\n",
    "import pandas as pd"
   ]
  },
  {
   "cell_type": "code",
   "execution_count": 3,
   "id": "da00d9fe-c9d4-49bf-aa7c-b8d5e3f6cf8a",
   "metadata": {},
   "outputs": [],
   "source": [
    "my_data = pd.read_csv('my_raw_data.txt', sep=\",\", header=None, usecols=[0,1]) # Droping white spaces at the end (third column)\n",
    "my_data.columns = [\"transaction_time\", \"transaction_amount\"]\n",
    "my_data.transaction_time = pd.to_datetime(my_data.transaction_time)  # convert to Date/Time\n",
    "my_data['transaction_amount'] = my_data['transaction_amount'].astype(float) # convert to float"
   ]
  },
  {
   "cell_type": "code",
   "execution_count": 4,
   "id": "249f28c2-50a5-456f-84bf-84be741bb7ab",
   "metadata": {},
   "outputs": [
    {
     "data": {
      "text/html": [
       "<div>\n",
       "<style scoped>\n",
       "    .dataframe tbody tr th:only-of-type {\n",
       "        vertical-align: middle;\n",
       "    }\n",
       "\n",
       "    .dataframe tbody tr th {\n",
       "        vertical-align: top;\n",
       "    }\n",
       "\n",
       "    .dataframe thead th {\n",
       "        text-align: right;\n",
       "    }\n",
       "</style>\n",
       "<table border=\"1\" class=\"dataframe\">\n",
       "  <thead>\n",
       "    <tr style=\"text-align: right;\">\n",
       "      <th></th>\n",
       "      <th>transaction_time</th>\n",
       "      <th>transaction_amount</th>\n",
       "    </tr>\n",
       "  </thead>\n",
       "  <tbody>\n",
       "    <tr>\n",
       "      <th>0</th>\n",
       "      <td>2021-01-16 00:05:54</td>\n",
       "      <td>25.05</td>\n",
       "    </tr>\n",
       "    <tr>\n",
       "      <th>1</th>\n",
       "      <td>2021-01-07 20:53:04</td>\n",
       "      <td>124.00</td>\n",
       "    </tr>\n",
       "    <tr>\n",
       "      <th>2</th>\n",
       "      <td>2021-01-18 22:55:37</td>\n",
       "      <td>66.58</td>\n",
       "    </tr>\n",
       "    <tr>\n",
       "      <th>3</th>\n",
       "      <td>2021-01-21 00:36:57</td>\n",
       "      <td>9.99</td>\n",
       "    </tr>\n",
       "    <tr>\n",
       "      <th>4</th>\n",
       "      <td>2021-01-19 06:31:10</td>\n",
       "      <td>22.27</td>\n",
       "    </tr>\n",
       "    <tr>\n",
       "      <th>...</th>\n",
       "      <td>...</td>\n",
       "      <td>...</td>\n",
       "    </tr>\n",
       "    <tr>\n",
       "      <th>109</th>\n",
       "      <td>2021-01-11 00:06:39</td>\n",
       "      <td>87.10</td>\n",
       "    </tr>\n",
       "    <tr>\n",
       "      <th>110</th>\n",
       "      <td>2021-01-01 02:01:09</td>\n",
       "      <td>518.20</td>\n",
       "    </tr>\n",
       "    <tr>\n",
       "      <th>111</th>\n",
       "      <td>2021-01-15 20:55:58</td>\n",
       "      <td>47.72</td>\n",
       "    </tr>\n",
       "    <tr>\n",
       "      <th>112</th>\n",
       "      <td>2021-01-02 00:09:43</td>\n",
       "      <td>49.00</td>\n",
       "    </tr>\n",
       "    <tr>\n",
       "      <th>113</th>\n",
       "      <td>2021-01-08 00:49:22</td>\n",
       "      <td>31.61</td>\n",
       "    </tr>\n",
       "  </tbody>\n",
       "</table>\n",
       "<p>114 rows × 2 columns</p>\n",
       "</div>"
      ],
      "text/plain": [
       "       transaction_time  transaction_amount\n",
       "0   2021-01-16 00:05:54               25.05\n",
       "1   2021-01-07 20:53:04              124.00\n",
       "2   2021-01-18 22:55:37               66.58\n",
       "3   2021-01-21 00:36:57                9.99\n",
       "4   2021-01-19 06:31:10               22.27\n",
       "..                  ...                 ...\n",
       "109 2021-01-11 00:06:39               87.10\n",
       "110 2021-01-01 02:01:09              518.20\n",
       "111 2021-01-15 20:55:58               47.72\n",
       "112 2021-01-02 00:09:43               49.00\n",
       "113 2021-01-08 00:49:22               31.61\n",
       "\n",
       "[114 rows x 2 columns]"
      ]
     },
     "execution_count": 4,
     "metadata": {},
     "output_type": "execute_result"
    }
   ],
   "source": [
    "my_data"
   ]
  },
  {
   "cell_type": "markdown",
   "id": "3e3f608f-e107-4970-95a8-878ee672abd2",
   "metadata": {},
   "source": [
    "Calculate January 31's rolling 3 day average of total transaction amount processed per day "
   ]
  },
  {
   "cell_type": "code",
   "execution_count": 6,
   "id": "1379c652-88d8-48d4-bed8-08ad0f1d432b",
   "metadata": {},
   "outputs": [],
   "source": [
    "#Group by Date and Sum transactions per date\n",
    "my_summary_date = my_data['transaction_amount'].groupby([my_data['transaction_time'].dt.date]).sum() # Get stotals per day\n",
    "my_summary_date.index = pd.to_datetime(my_summary_date.index) # transform grouped dates to date types"
   ]
  },
  {
   "cell_type": "code",
   "execution_count": 7,
   "id": "2e0c3a0d-bcea-4eca-943e-a16838e33259",
   "metadata": {},
   "outputs": [
    {
     "data": {
      "text/plain": [
       "transaction_time\n",
       "2021-01-01     6418.20\n",
       "2021-01-02      646.31\n",
       "2021-01-03       54.06\n",
       "2021-01-04     1285.16\n",
       "2021-01-05      835.55\n",
       "2021-01-06      444.60\n",
       "2021-01-07      975.80\n",
       "2021-01-08      347.40\n",
       "2021-01-09     1033.49\n",
       "2021-01-10      751.75\n",
       "2021-01-11     2303.94\n",
       "2021-01-12    10458.58\n",
       "2021-01-13      491.38\n",
       "2021-01-14     1012.83\n",
       "2021-01-15     2039.09\n",
       "2021-01-16      136.43\n",
       "2021-01-17       68.82\n",
       "2021-01-18     1106.86\n",
       "2021-01-19      372.76\n",
       "2021-01-20      150.01\n",
       "2021-01-21      625.97\n",
       "2021-01-22      527.00\n",
       "2021-01-23     1226.92\n",
       "2021-01-24     1165.30\n",
       "2021-01-25      290.95\n",
       "2021-01-26     3004.47\n",
       "2021-01-27      471.34\n",
       "2021-01-28     8974.41\n",
       "2021-01-29     1520.90\n",
       "2021-01-30      466.12\n",
       "2021-01-31       59.43\n",
       "Name: transaction_amount, dtype: float64"
      ]
     },
     "execution_count": 7,
     "metadata": {},
     "output_type": "execute_result"
    }
   ],
   "source": [
    "my_summary_date"
   ]
  },
  {
   "cell_type": "code",
   "execution_count": 8,
   "id": "54b835a9-0a6e-4d93-992e-5b21dc8142e1",
   "metadata": {},
   "outputs": [],
   "source": [
    "#Calculate 3-day window averages per day\n",
    "my_rolling_averages = my_summary_date.rolling(window=3).mean() # Do 3 day rolling window mean\n",
    "my_rolling_averages.index = pd.to_datetime(my_rolling_averages.index) # transform grouped dates to date types"
   ]
  },
  {
   "cell_type": "code",
   "execution_count": 9,
   "id": "6d646213-2f41-4f71-bdf9-3afd4a933027",
   "metadata": {},
   "outputs": [
    {
     "data": {
      "text/plain": [
       "transaction_time\n",
       "2021-01-01            NaN\n",
       "2021-01-02            NaN\n",
       "2021-01-03    2372.856667\n",
       "2021-01-04     661.843333\n",
       "2021-01-05     724.923333\n",
       "2021-01-06     855.103333\n",
       "2021-01-07     751.983333\n",
       "2021-01-08     589.266667\n",
       "2021-01-09     785.563333\n",
       "2021-01-10     710.880000\n",
       "2021-01-11    1363.060000\n",
       "2021-01-12    4504.756667\n",
       "2021-01-13    4417.966667\n",
       "2021-01-14    3987.596667\n",
       "2021-01-15    1181.100000\n",
       "2021-01-16    1062.783333\n",
       "2021-01-17     748.113333\n",
       "2021-01-18     437.370000\n",
       "2021-01-19     516.146667\n",
       "2021-01-20     543.210000\n",
       "2021-01-21     382.913333\n",
       "2021-01-22     434.326667\n",
       "2021-01-23     793.296667\n",
       "2021-01-24     973.073333\n",
       "2021-01-25     894.390000\n",
       "2021-01-26    1486.906667\n",
       "2021-01-27    1255.586667\n",
       "2021-01-28    4150.073333\n",
       "2021-01-29    3655.550000\n",
       "2021-01-30    3653.810000\n",
       "2021-01-31     682.150000\n",
       "Name: transaction_amount, dtype: float64"
      ]
     },
     "execution_count": 9,
     "metadata": {},
     "output_type": "execute_result"
    }
   ],
   "source": [
    "my_rolling_averages"
   ]
  },
  {
   "cell_type": "code",
   "execution_count": 10,
   "id": "a875b12e-ca9a-4a90-a176-d4875ab6ac96",
   "metadata": {},
   "outputs": [
    {
     "data": {
      "text/plain": [
       "transaction_time\n",
       "2021-01-31    682.15\n",
       "Name: transaction_amount, dtype: float64"
      ]
     },
     "execution_count": 10,
     "metadata": {},
     "output_type": "execute_result"
    }
   ],
   "source": [
    "# My Answer:\n",
    "\n",
    "my_rolling_averages.loc[['2021-01-31']]\n"
   ]
  },
  {
   "cell_type": "code",
   "execution_count": null,
   "id": "c5f3b51e-fd75-462e-adfa-ff572dbd9282",
   "metadata": {},
   "outputs": [],
   "source": []
  }
 ],
 "metadata": {
  "kernelspec": {
   "display_name": "Python [conda env:base] *",
   "language": "python",
   "name": "conda-base-py"
  },
  "language_info": {
   "codemirror_mode": {
    "name": "ipython",
    "version": 3
   },
   "file_extension": ".py",
   "mimetype": "text/x-python",
   "name": "python",
   "nbconvert_exporter": "python",
   "pygments_lexer": "ipython3",
   "version": "3.12.4"
  }
 },
 "nbformat": 4,
 "nbformat_minor": 5
}
