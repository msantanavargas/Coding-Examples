{
 "cells": [
  {
   "cell_type": "code",
   "execution_count": null,
   "id": "ecf9b42d-d905-44f8-a45f-af709aaf03b9",
   "metadata": {},
   "outputs": [],
   "source": [
    "# FROM:\n",
    "# https://www.geeksforgeeks.org/problems/binary-search-in-forest--141631/0\n",
    "\n",
    "#There are n trees in a forest. \n",
    "#The heights of the trees is stored in array tree[], where tree[i] denotes the height of the ith tree in the forest. \n",
    "#If the ith tree is cut at a height H, then the wood collected is tree[i] - H, provided tree[i] > H. \n",
    "#If the total woods that needs to be collected is exactly equal to k, \n",
    "#find the height H at which every tree should be cut (all trees have to be cut at the same height). \n",
    "#If it is not possible then return -1 else return H.\n",
    "\n",
    "\n",
    "# Your Task:\n",
    "# Your task is to complete the function find_height(). \n",
    "# This function takes the array tree[ ], \n",
    "# and the integers n and k as input parameters and returns the height at which trees have to be cut. \n",
    "# If no positive integer value of height is possible, return -1."
   ]
  },
  {
   "cell_type": "code",
   "execution_count": 68,
   "id": "12202a0c-ded0-4d54-aa37-8d3eba5dba9f",
   "metadata": {},
   "outputs": [],
   "source": [
    "def find_height(tree, n, k):\n",
    "    max_cut = max(tree)\n",
    "    my_height = -1\n",
    "    for H in range(0,max_cut,1):\n",
    "        w = []\n",
    "        for my_tree in tree:\n",
    "            x = 0\n",
    "            # print(f'tree: {tree[i]}')\n",
    "            # print(tree[i] > H)\n",
    "            if my_tree >= H:\n",
    "                x = my_tree - H\n",
    "                # print(x)\n",
    "                w.append(x)\n",
    "            else: x = 0\n",
    "        print(f'for height {H}, total wood:{sum(w)}')\n",
    "        if sum(w) == k:\n",
    "            my_height = H     \n",
    "    return my_height"
   ]
  },
  {
   "cell_type": "code",
   "execution_count": 69,
   "id": "a72e579b-29ac-4a20-becb-82e7167ebaf1",
   "metadata": {},
   "outputs": [
    {
     "name": "stdout",
     "output_type": "stream",
     "text": [
      "for height 0, total wood:17\n",
      "for height 1, total wood:12\n",
      "for height 2, total wood:7\n",
      "for height 3, total wood:4\n",
      "for height 4, total wood:2\n",
      "for height 5, total wood:1\n",
      "My Answer: 3\n"
     ]
    }
   ],
   "source": [
    "tree = [2, 3, 6, 2, 4]\n",
    "n = 5\n",
    "k = 4\n",
    "\n",
    "my_answer = find_height(tree, n, k)\n",
    "\n",
    "print(f'My Answer: {my_answer}')"
   ]
  },
  {
   "cell_type": "code",
   "execution_count": 70,
   "id": "78015bfe-643c-4efb-bebb-d4b0b8e7f343",
   "metadata": {},
   "outputs": [
    {
     "name": "stdout",
     "output_type": "stream",
     "text": [
      "for height 0, total wood:28\n",
      "for height 1, total wood:22\n",
      "for height 2, total wood:17\n",
      "for height 3, total wood:12\n",
      "for height 4, total wood:8\n",
      "for height 5, total wood:5\n",
      "for height 6, total wood:2\n",
      "My Answer: 4\n"
     ]
    }
   ],
   "source": [
    "tree = [1, 7, 6, 3, 4, 7]\n",
    "n = 6\n",
    "k = 8\n",
    "\n",
    "my_answer = find_height(tree, n, k)\n",
    "\n",
    "print(f'My Answer: {my_answer}')"
   ]
  }
 ],
 "metadata": {
  "kernelspec": {
   "display_name": "Python 3 (ipykernel)",
   "language": "python",
   "name": "python3"
  },
  "language_info": {
   "codemirror_mode": {
    "name": "ipython",
    "version": 3
   },
   "file_extension": ".py",
   "mimetype": "text/x-python",
   "name": "python",
   "nbconvert_exporter": "python",
   "pygments_lexer": "ipython3",
   "version": "3.11.9"
  }
 },
 "nbformat": 4,
 "nbformat_minor": 5
}
