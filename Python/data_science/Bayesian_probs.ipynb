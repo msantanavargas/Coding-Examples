{
 "cells": [
  {
   "cell_type": "code",
   "execution_count": null,
   "id": "43735bce-625d-40bb-ad92-487c1b08311d",
   "metadata": {},
   "outputs": [],
   "source": [
    "# From Emory:\n",
    "\n",
    "# https://math.oxford.emory.edu/site/math117/probSetBayesTheorem/"
   ]
  },
  {
   "cell_type": "code",
   "execution_count": null,
   "id": "587e89b1-a478-4c17-bd51-d54ec2396fb9",
   "metadata": {},
   "outputs": [],
   "source": [
    "# Company A supplies 40% of the computers sold and is late 5% of the time. \n",
    "# Company B supplies 30% of the computers sold and is late 3% of the time. \n",
    "# Company C supplies another 30% and is late 2.5% of the time. \n",
    "# A computer arrives late - what is the probability that it came from Company A?"
   ]
  },
  {
   "cell_type": "code",
   "execution_count": 23,
   "id": "be10f546-3e3c-484f-8ca6-578aa54747b5",
   "metadata": {},
   "outputs": [
    {
     "name": "stdout",
     "output_type": "stream",
     "text": [
      "0.5479452054794521\n",
      "0.5479452054794521\n"
     ]
    }
   ],
   "source": [
    "#P(A|X) = P(X|A) P(A)  /  P(X)\n",
    "\n",
    "#P(X|A) P(A)\n",
    "ans1 = .05 * .4\n",
    "# print(ans1)\n",
    "#P(X)\n",
    "ans2 = (.4 * .05) + (.3 *.03) + (.3 * .025)\n",
    "# print(ans2)\n",
    "#P(A|X) = P(X|A) P(A)  /  P(X)\n",
    "\n",
    "ans = ans1 / ans2\n",
    "print(ans)\n",
    "\n",
    "ans_1 = (.05 * .4) / ((.4 * .05) + (.3 *.03) + (.3 * .025))\n",
    "print(ans_1)"
   ]
  },
  {
   "cell_type": "code",
   "execution_count": 25,
   "id": "00b6a6e9-b5d3-43f6-b2aa-0e3bcd30bba4",
   "metadata": {},
   "outputs": [
    {
     "name": "stdout",
     "output_type": "stream",
     "text": [
      "0.8532934131736527\n"
     ]
    }
   ],
   "source": [
    "# In Orange County, 51% of the adults are males. \n",
    "# One adult is randomly selected for a survey involving credit card usage. \n",
    "# It is later learned that the selected survey subject was smoking a cigar. \n",
    "# Also, 9.5% of males smoke cigars, \n",
    "# whereas 1.7% of females smoke cigars (based on data from the Substance Abuse and Mental Health Services Administration). \n",
    "# Use this additional information to find the probability that the selected subject is a male.\n",
    "\n",
    "# P(A|X) = P(X|A) P(A)  /  P(X)       # Prob of being male given smoking\n",
    "# P(X|A) = .095                       # Prob of smoking given being male\n",
    "# P(A) = .51                          # Prob of being male\n",
    "# P(X) = .51 * .095 + .49 * .017      # Prob of smoking\n",
    "\n",
    "Ans2 = .095 * .51 / ((.51 * .095) + (.49 * .017) )\n",
    "print(Ans2)"
   ]
  },
  {
   "cell_type": "code",
   "execution_count": 30,
   "id": "c43f4a9c-016e-444f-a8b4-b85f70155280",
   "metadata": {},
   "outputs": [
    {
     "name": "stdout",
     "output_type": "stream",
     "text": [
      "Prob of taking the bus given being late: 0.41791044776119407\n",
      "Prob of walking given being on time: 0.28938906752411575\n"
     ]
    }
   ],
   "source": [
    "# A person uses his car 30% of the time, \n",
    "# walks 30% of the time and \n",
    "# rides the bus 40% of the time as he goes to work. \n",
    "# He is late 10% of the time when he walks; \n",
    "# he is late 3% of the time when he drives; \n",
    "# and he is late 7% of the time he takes the bus.\n",
    "\n",
    "#    What is the probability he took the bus if he was late?\n",
    "#    What is the probability he walked if he is on time?\n",
    "\n",
    "\n",
    "\n",
    "#    What is the probability he took the bus if he was late?\n",
    "\n",
    "# P(Y|X) = P(X|Y) P(Y)  /  P(X)       # Prob of taking the bus given being late\n",
    "# P(X|Y) = .07                        # Prob of being late given taking the bus\n",
    "# P(Y) = .40                          # Prob of taking the bus\n",
    "# P(X) = 0.10 * 0.3 + 0.03 * 0.3 + 0.07 * .40     # Prob of being late\n",
    "\n",
    "Ans3 = (0.07 * 0.40) / ((0.10 * 0.3) + (0.03 * 0.3) + (0.07 * .40))\n",
    "print(f'Prob of taking the bus given being late: {Ans3}')\n",
    "\n",
    "\n",
    "\n",
    "#    What is the probability he walked if he is on time?\n",
    "\n",
    "# P(Y|X) = P(X|Y) P(Y)  /  P(X)       # Prob of walking given being on time\n",
    "# P(X|Y) = .90                        # Prob of being on time given walking\n",
    "# P(Y) = .30                          # Prob of walking\n",
    "# P(X) = 1 - (0.10 * 0.3 + 0.03 * 0.3 + 0.07 * .40)     # Prob of being on time\n",
    "\n",
    "Ans3_1 = (0.90 * 0.30) / (1-((0.10 * 0.3) + (0.03 * 0.3) + (0.07 * .40)))\n",
    "print(f'Prob of walking given being on time: {Ans3_1}')"
   ]
  }
 ],
 "metadata": {
  "kernelspec": {
   "display_name": "Python 3 (ipykernel)",
   "language": "python",
   "name": "python3"
  },
  "language_info": {
   "codemirror_mode": {
    "name": "ipython",
    "version": 3
   },
   "file_extension": ".py",
   "mimetype": "text/x-python",
   "name": "python",
   "nbconvert_exporter": "python",
   "pygments_lexer": "ipython3",
   "version": "3.11.9"
  }
 },
 "nbformat": 4,
 "nbformat_minor": 5
}
