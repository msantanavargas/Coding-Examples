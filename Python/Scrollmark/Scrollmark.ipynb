{
 "cells": [
  {
   "cell_type": "code",
   "id": "initial_id",
   "metadata": {
    "collapsed": true,
    "ExecuteTime": {
     "end_time": "2025-07-20T15:21:03.162125Z",
     "start_time": "2025-07-20T15:21:03.160013Z"
    }
   },
   "source": [
    "import pandas as pd\n",
    "import matplotlib.pyplot as plt"
   ],
   "outputs": [],
   "execution_count": 27
  },
  {
   "metadata": {
    "ExecuteTime": {
     "end_time": "2025-07-20T15:14:38.273490Z",
     "start_time": "2025-07-20T15:14:38.210402Z"
    }
   },
   "cell_type": "code",
   "source": "engagements_df = pd.read_csv('engagements.csv')",
   "id": "c48b3c72cf315c5e",
   "outputs": [],
   "execution_count": 16
  },
  {
   "metadata": {
    "ExecuteTime": {
     "end_time": "2025-07-20T15:14:39.519980Z",
     "start_time": "2025-07-20T15:14:39.513978Z"
    }
   },
   "cell_type": "code",
   "source": "engagements_df",
   "id": "e514067d046970ba",
   "outputs": [
    {
     "data": {
      "text/plain": [
       "                              timestamp           media_id  \\\n",
       "0      2025-03-01 00:13:57.153000+00:00   1090986906404998   \n",
       "1      2025-03-01 00:23:06.879000+00:00  17950254656929862   \n",
       "2      2025-03-01 00:04:05.094000+00:00   1090109319826090   \n",
       "3      2025-03-01 00:41:59.467000+00:00   1098364052333950   \n",
       "4      2025-03-01 02:21:29.715000+00:00   1083943630442659   \n",
       "...                                 ...                ...   \n",
       "17836  2025-04-02 18:27:20.065000+00:00   1125861369584218   \n",
       "17837  2025-04-02 18:28:41.488000+00:00  18076572166794234   \n",
       "17838  2025-04-02 18:31:56.153000+00:00   1125861369584218   \n",
       "17839  2025-04-02 18:29:08.782000+00:00   1125861369584218   \n",
       "17840  2025-04-02 18:29:59.086000+00:00  18056231456512954   \n",
       "\n",
       "                                           media_caption  \\\n",
       "0      Soft skin, soft life 🩷🌸🫧 get your hands on thi...   \n",
       "1      Why use one scrub when you can use them all at...   \n",
       "2      Morning routine with Tree Hut 🍊🫧 Now available...   \n",
       "3      Why use one scrub when you can use them all at...   \n",
       "4      Vanilla Serum-Infused Hand Wash: A sweet escap...   \n",
       "...                                                  ...   \n",
       "17836                            that's that me espresso   \n",
       "17837  Let us know what your Spring Vibe is going to ...   \n",
       "17838                            that's that me espresso   \n",
       "17839                            that's that me espresso   \n",
       "17840  You know what we can’t relate to? Dry skin. ✋❌...   \n",
       "\n",
       "                                            comment_text  \n",
       "0                                     I bet this is good  \n",
       "1                             i know this smells so good  \n",
       "2                                                Love it  \n",
       "3      Please carry these in Canada! I miss them so m...  \n",
       "4                                         I love it ..✌️  \n",
       "...                                                  ...  \n",
       "17836                              Anthony Baggio I want  \n",
       "17837                                               A1!😍  \n",
       "17838                          Cydney Shue for you babes  \n",
       "17839                       Bryanna Crable omg I need 😂😂  \n",
       "17840                               '@hygienewithdiamond  \n",
       "\n",
       "[17841 rows x 4 columns]"
      ],
      "text/html": [
       "<div>\n",
       "<style scoped>\n",
       "    .dataframe tbody tr th:only-of-type {\n",
       "        vertical-align: middle;\n",
       "    }\n",
       "\n",
       "    .dataframe tbody tr th {\n",
       "        vertical-align: top;\n",
       "    }\n",
       "\n",
       "    .dataframe thead th {\n",
       "        text-align: right;\n",
       "    }\n",
       "</style>\n",
       "<table border=\"1\" class=\"dataframe\">\n",
       "  <thead>\n",
       "    <tr style=\"text-align: right;\">\n",
       "      <th></th>\n",
       "      <th>timestamp</th>\n",
       "      <th>media_id</th>\n",
       "      <th>media_caption</th>\n",
       "      <th>comment_text</th>\n",
       "    </tr>\n",
       "  </thead>\n",
       "  <tbody>\n",
       "    <tr>\n",
       "      <th>0</th>\n",
       "      <td>2025-03-01 00:13:57.153000+00:00</td>\n",
       "      <td>1090986906404998</td>\n",
       "      <td>Soft skin, soft life 🩷🌸🫧 get your hands on thi...</td>\n",
       "      <td>I bet this is good</td>\n",
       "    </tr>\n",
       "    <tr>\n",
       "      <th>1</th>\n",
       "      <td>2025-03-01 00:23:06.879000+00:00</td>\n",
       "      <td>17950254656929862</td>\n",
       "      <td>Why use one scrub when you can use them all at...</td>\n",
       "      <td>i know this smells so good</td>\n",
       "    </tr>\n",
       "    <tr>\n",
       "      <th>2</th>\n",
       "      <td>2025-03-01 00:04:05.094000+00:00</td>\n",
       "      <td>1090109319826090</td>\n",
       "      <td>Morning routine with Tree Hut 🍊🫧 Now available...</td>\n",
       "      <td>Love it</td>\n",
       "    </tr>\n",
       "    <tr>\n",
       "      <th>3</th>\n",
       "      <td>2025-03-01 00:41:59.467000+00:00</td>\n",
       "      <td>1098364052333950</td>\n",
       "      <td>Why use one scrub when you can use them all at...</td>\n",
       "      <td>Please carry these in Canada! I miss them so m...</td>\n",
       "    </tr>\n",
       "    <tr>\n",
       "      <th>4</th>\n",
       "      <td>2025-03-01 02:21:29.715000+00:00</td>\n",
       "      <td>1083943630442659</td>\n",
       "      <td>Vanilla Serum-Infused Hand Wash: A sweet escap...</td>\n",
       "      <td>I love it ..✌️</td>\n",
       "    </tr>\n",
       "    <tr>\n",
       "      <th>...</th>\n",
       "      <td>...</td>\n",
       "      <td>...</td>\n",
       "      <td>...</td>\n",
       "      <td>...</td>\n",
       "    </tr>\n",
       "    <tr>\n",
       "      <th>17836</th>\n",
       "      <td>2025-04-02 18:27:20.065000+00:00</td>\n",
       "      <td>1125861369584218</td>\n",
       "      <td>that's that me espresso</td>\n",
       "      <td>Anthony Baggio I want</td>\n",
       "    </tr>\n",
       "    <tr>\n",
       "      <th>17837</th>\n",
       "      <td>2025-04-02 18:28:41.488000+00:00</td>\n",
       "      <td>18076572166794234</td>\n",
       "      <td>Let us know what your Spring Vibe is going to ...</td>\n",
       "      <td>A1!😍</td>\n",
       "    </tr>\n",
       "    <tr>\n",
       "      <th>17838</th>\n",
       "      <td>2025-04-02 18:31:56.153000+00:00</td>\n",
       "      <td>1125861369584218</td>\n",
       "      <td>that's that me espresso</td>\n",
       "      <td>Cydney Shue for you babes</td>\n",
       "    </tr>\n",
       "    <tr>\n",
       "      <th>17839</th>\n",
       "      <td>2025-04-02 18:29:08.782000+00:00</td>\n",
       "      <td>1125861369584218</td>\n",
       "      <td>that's that me espresso</td>\n",
       "      <td>Bryanna Crable omg I need 😂😂</td>\n",
       "    </tr>\n",
       "    <tr>\n",
       "      <th>17840</th>\n",
       "      <td>2025-04-02 18:29:59.086000+00:00</td>\n",
       "      <td>18056231456512954</td>\n",
       "      <td>You know what we can’t relate to? Dry skin. ✋❌...</td>\n",
       "      <td>'@hygienewithdiamond</td>\n",
       "    </tr>\n",
       "  </tbody>\n",
       "</table>\n",
       "<p>17841 rows × 4 columns</p>\n",
       "</div>"
      ]
     },
     "execution_count": 17,
     "metadata": {},
     "output_type": "execute_result"
    }
   ],
   "execution_count": 17
  },
  {
   "metadata": {
    "ExecuteTime": {
     "end_time": "2025-07-20T15:14:41.126313Z",
     "start_time": "2025-07-20T15:14:41.123191Z"
    }
   },
   "cell_type": "code",
   "source": "engagements_df.dtypes",
   "id": "cb078b8a6ea171ad",
   "outputs": [
    {
     "data": {
      "text/plain": [
       "timestamp        object\n",
       "media_id          int64\n",
       "media_caption    object\n",
       "comment_text     object\n",
       "dtype: object"
      ]
     },
     "execution_count": 18,
     "metadata": {},
     "output_type": "execute_result"
    }
   ],
   "execution_count": 18
  },
  {
   "metadata": {
    "ExecuteTime": {
     "end_time": "2025-07-20T15:14:50.518128Z",
     "start_time": "2025-07-20T15:14:50.483830Z"
    }
   },
   "cell_type": "code",
   "source": "engagements_df['timestamp'] = pd.to_datetime(engagements_df['timestamp'])",
   "id": "bad035d49dd53e7b",
   "outputs": [
    {
     "ename": "ValueError",
     "evalue": "time data \"2025-03-01 08:12:11+00:00\" doesn't match format \"%Y-%m-%d %H:%M:%S.%f%z\", at position 29. You might want to try:\n    - passing `format` if your strings have a consistent format;\n    - passing `format='ISO8601'` if your strings are all ISO8601 but not necessarily in exactly the same format;\n    - passing `format='mixed'`, and the format will be inferred for each element individually. You might want to use `dayfirst` alongside this.",
     "output_type": "error",
     "traceback": [
      "\u001B[0;31m---------------------------------------------------------------------------\u001B[0m",
      "\u001B[0;31mValueError\u001B[0m                                Traceback (most recent call last)",
      "Cell \u001B[0;32mIn[19], line 1\u001B[0m\n\u001B[0;32m----> 1\u001B[0m engagements_df[\u001B[38;5;124m'\u001B[39m\u001B[38;5;124mtimestamp\u001B[39m\u001B[38;5;124m'\u001B[39m] \u001B[38;5;241m=\u001B[39m pd\u001B[38;5;241m.\u001B[39mto_datetime(engagements_df[\u001B[38;5;124m'\u001B[39m\u001B[38;5;124mtimestamp\u001B[39m\u001B[38;5;124m'\u001B[39m])\n",
      "File \u001B[0;32m~/anaconda3/lib/python3.12/site-packages/pandas/core/tools/datetimes.py:1067\u001B[0m, in \u001B[0;36mto_datetime\u001B[0;34m(arg, errors, dayfirst, yearfirst, utc, format, exact, unit, infer_datetime_format, origin, cache)\u001B[0m\n\u001B[1;32m   1065\u001B[0m         result \u001B[38;5;241m=\u001B[39m arg\u001B[38;5;241m.\u001B[39mmap(cache_array)\n\u001B[1;32m   1066\u001B[0m     \u001B[38;5;28;01melse\u001B[39;00m:\n\u001B[0;32m-> 1067\u001B[0m         values \u001B[38;5;241m=\u001B[39m convert_listlike(arg\u001B[38;5;241m.\u001B[39m_values, \u001B[38;5;28mformat\u001B[39m)\n\u001B[1;32m   1068\u001B[0m         result \u001B[38;5;241m=\u001B[39m arg\u001B[38;5;241m.\u001B[39m_constructor(values, index\u001B[38;5;241m=\u001B[39marg\u001B[38;5;241m.\u001B[39mindex, name\u001B[38;5;241m=\u001B[39marg\u001B[38;5;241m.\u001B[39mname)\n\u001B[1;32m   1069\u001B[0m \u001B[38;5;28;01melif\u001B[39;00m \u001B[38;5;28misinstance\u001B[39m(arg, (ABCDataFrame, abc\u001B[38;5;241m.\u001B[39mMutableMapping)):\n",
      "File \u001B[0;32m~/anaconda3/lib/python3.12/site-packages/pandas/core/tools/datetimes.py:433\u001B[0m, in \u001B[0;36m_convert_listlike_datetimes\u001B[0;34m(arg, format, name, utc, unit, errors, dayfirst, yearfirst, exact)\u001B[0m\n\u001B[1;32m    431\u001B[0m \u001B[38;5;66;03m# `format` could be inferred, or user didn't ask for mixed-format parsing.\u001B[39;00m\n\u001B[1;32m    432\u001B[0m \u001B[38;5;28;01mif\u001B[39;00m \u001B[38;5;28mformat\u001B[39m \u001B[38;5;129;01mis\u001B[39;00m \u001B[38;5;129;01mnot\u001B[39;00m \u001B[38;5;28;01mNone\u001B[39;00m \u001B[38;5;129;01mand\u001B[39;00m \u001B[38;5;28mformat\u001B[39m \u001B[38;5;241m!=\u001B[39m \u001B[38;5;124m\"\u001B[39m\u001B[38;5;124mmixed\u001B[39m\u001B[38;5;124m\"\u001B[39m:\n\u001B[0;32m--> 433\u001B[0m     \u001B[38;5;28;01mreturn\u001B[39;00m _array_strptime_with_fallback(arg, name, utc, \u001B[38;5;28mformat\u001B[39m, exact, errors)\n\u001B[1;32m    435\u001B[0m result, tz_parsed \u001B[38;5;241m=\u001B[39m objects_to_datetime64(\n\u001B[1;32m    436\u001B[0m     arg,\n\u001B[1;32m    437\u001B[0m     dayfirst\u001B[38;5;241m=\u001B[39mdayfirst,\n\u001B[0;32m   (...)\u001B[0m\n\u001B[1;32m    441\u001B[0m     allow_object\u001B[38;5;241m=\u001B[39m\u001B[38;5;28;01mTrue\u001B[39;00m,\n\u001B[1;32m    442\u001B[0m )\n\u001B[1;32m    444\u001B[0m \u001B[38;5;28;01mif\u001B[39;00m tz_parsed \u001B[38;5;129;01mis\u001B[39;00m \u001B[38;5;129;01mnot\u001B[39;00m \u001B[38;5;28;01mNone\u001B[39;00m:\n\u001B[1;32m    445\u001B[0m     \u001B[38;5;66;03m# We can take a shortcut since the datetime64 numpy array\u001B[39;00m\n\u001B[1;32m    446\u001B[0m     \u001B[38;5;66;03m# is in UTC\u001B[39;00m\n",
      "File \u001B[0;32m~/anaconda3/lib/python3.12/site-packages/pandas/core/tools/datetimes.py:467\u001B[0m, in \u001B[0;36m_array_strptime_with_fallback\u001B[0;34m(arg, name, utc, fmt, exact, errors)\u001B[0m\n\u001B[1;32m    456\u001B[0m \u001B[38;5;28;01mdef\u001B[39;00m\u001B[38;5;250m \u001B[39m\u001B[38;5;21m_array_strptime_with_fallback\u001B[39m(\n\u001B[1;32m    457\u001B[0m     arg,\n\u001B[1;32m    458\u001B[0m     name,\n\u001B[0;32m   (...)\u001B[0m\n\u001B[1;32m    462\u001B[0m     errors: \u001B[38;5;28mstr\u001B[39m,\n\u001B[1;32m    463\u001B[0m ) \u001B[38;5;241m-\u001B[39m\u001B[38;5;241m>\u001B[39m Index:\n\u001B[1;32m    464\u001B[0m \u001B[38;5;250m    \u001B[39m\u001B[38;5;124;03m\"\"\"\u001B[39;00m\n\u001B[1;32m    465\u001B[0m \u001B[38;5;124;03m    Call array_strptime, with fallback behavior depending on 'errors'.\u001B[39;00m\n\u001B[1;32m    466\u001B[0m \u001B[38;5;124;03m    \"\"\"\u001B[39;00m\n\u001B[0;32m--> 467\u001B[0m     result, tz_out \u001B[38;5;241m=\u001B[39m array_strptime(arg, fmt, exact\u001B[38;5;241m=\u001B[39mexact, errors\u001B[38;5;241m=\u001B[39merrors, utc\u001B[38;5;241m=\u001B[39mutc)\n\u001B[1;32m    468\u001B[0m     \u001B[38;5;28;01mif\u001B[39;00m tz_out \u001B[38;5;129;01mis\u001B[39;00m \u001B[38;5;129;01mnot\u001B[39;00m \u001B[38;5;28;01mNone\u001B[39;00m:\n\u001B[1;32m    469\u001B[0m         unit \u001B[38;5;241m=\u001B[39m np\u001B[38;5;241m.\u001B[39mdatetime_data(result\u001B[38;5;241m.\u001B[39mdtype)[\u001B[38;5;241m0\u001B[39m]\n",
      "File \u001B[0;32mstrptime.pyx:501\u001B[0m, in \u001B[0;36mpandas._libs.tslibs.strptime.array_strptime\u001B[0;34m()\u001B[0m\n",
      "File \u001B[0;32mstrptime.pyx:451\u001B[0m, in \u001B[0;36mpandas._libs.tslibs.strptime.array_strptime\u001B[0;34m()\u001B[0m\n",
      "File \u001B[0;32mstrptime.pyx:583\u001B[0m, in \u001B[0;36mpandas._libs.tslibs.strptime._parse_with_format\u001B[0;34m()\u001B[0m\n",
      "\u001B[0;31mValueError\u001B[0m: time data \"2025-03-01 08:12:11+00:00\" doesn't match format \"%Y-%m-%d %H:%M:%S.%f%z\", at position 29. You might want to try:\n    - passing `format` if your strings have a consistent format;\n    - passing `format='ISO8601'` if your strings are all ISO8601 but not necessarily in exactly the same format;\n    - passing `format='mixed'`, and the format will be inferred for each element individually. You might want to use `dayfirst` alongside this."
     ]
    }
   ],
   "execution_count": 19
  },
  {
   "metadata": {
    "ExecuteTime": {
     "end_time": "2025-07-20T15:15:16.180776Z",
     "start_time": "2025-07-20T15:15:16.175602Z"
    }
   },
   "cell_type": "code",
   "source": "engagements_df[25:35:1]",
   "id": "a365fb3355173a86",
   "outputs": [
    {
     "data": {
      "text/plain": [
       "                           timestamp           media_id  \\\n",
       "25  2025-03-01 04:54:40.956000+00:00  17977552802812044   \n",
       "26  2025-03-01 06:48:45.070000+00:00   1090109096492779   \n",
       "27  2025-03-01 06:27:53.095000+00:00  17950254656929862   \n",
       "28  2025-03-01 07:36:12.280000+00:00  17950254656929862   \n",
       "29         2025-03-01 08:12:11+00:00   1091781569658865   \n",
       "30  2025-03-01 06:12:33.682000+00:00  18021315083459733   \n",
       "31  2025-03-01 09:49:34.924000+00:00  17945047313797602   \n",
       "32  2025-03-01 10:43:38.026000+00:00   1091929799644042   \n",
       "33  2025-03-01 09:34:28.996000+00:00  18021315083459733   \n",
       "34  2025-03-01 11:31:42.266000+00:00   1098465922323763   \n",
       "\n",
       "                                        media_caption  \\\n",
       "25  POV: You just unlocked the ultimate Orange Cre...   \n",
       "26  Run to get my fave for a year-round summer ski...   \n",
       "27  Why use one scrub when you can use them all at...   \n",
       "28  Why use one scrub when you can use them all at...   \n",
       "29  Morning routine with Tree Hut 🍊🫧 Now available...   \n",
       "30  Orange you glad it’s giveaway time?! 🍊✨\\n\\nTha...   \n",
       "31  Mixing up the perfect self-care potion \\nWhat’...   \n",
       "32  Morning routine with Tree Hut 🍊🫧 Now available...   \n",
       "33  Orange you glad it’s giveaway time?! 🍊✨\\n\\nTha...   \n",
       "34  We couldn’t resist a little self-care moment w...   \n",
       "\n",
       "                                         comment_text  \n",
       "25                                                  🧡  \n",
       "26                                     Danielle Ewart  \n",
       "27                           '@treehut like rainbow 🌈  \n",
       "28                   Please bring back pink champagne  \n",
       "29                      Where I stores? I want to try  \n",
       "30  These all look like they smell so citrus and d...  \n",
       "31                              What's with the eyes😭  \n",
       "32  They have the best sugar scrub. I love the coc...  \n",
       "33                                    '@nichols__24 🍊  \n",
       "34  Its such a shame that you guys run Instagram o...  "
      ],
      "text/html": [
       "<div>\n",
       "<style scoped>\n",
       "    .dataframe tbody tr th:only-of-type {\n",
       "        vertical-align: middle;\n",
       "    }\n",
       "\n",
       "    .dataframe tbody tr th {\n",
       "        vertical-align: top;\n",
       "    }\n",
       "\n",
       "    .dataframe thead th {\n",
       "        text-align: right;\n",
       "    }\n",
       "</style>\n",
       "<table border=\"1\" class=\"dataframe\">\n",
       "  <thead>\n",
       "    <tr style=\"text-align: right;\">\n",
       "      <th></th>\n",
       "      <th>timestamp</th>\n",
       "      <th>media_id</th>\n",
       "      <th>media_caption</th>\n",
       "      <th>comment_text</th>\n",
       "    </tr>\n",
       "  </thead>\n",
       "  <tbody>\n",
       "    <tr>\n",
       "      <th>25</th>\n",
       "      <td>2025-03-01 04:54:40.956000+00:00</td>\n",
       "      <td>17977552802812044</td>\n",
       "      <td>POV: You just unlocked the ultimate Orange Cre...</td>\n",
       "      <td>🧡</td>\n",
       "    </tr>\n",
       "    <tr>\n",
       "      <th>26</th>\n",
       "      <td>2025-03-01 06:48:45.070000+00:00</td>\n",
       "      <td>1090109096492779</td>\n",
       "      <td>Run to get my fave for a year-round summer ski...</td>\n",
       "      <td>Danielle Ewart</td>\n",
       "    </tr>\n",
       "    <tr>\n",
       "      <th>27</th>\n",
       "      <td>2025-03-01 06:27:53.095000+00:00</td>\n",
       "      <td>17950254656929862</td>\n",
       "      <td>Why use one scrub when you can use them all at...</td>\n",
       "      <td>'@treehut like rainbow 🌈</td>\n",
       "    </tr>\n",
       "    <tr>\n",
       "      <th>28</th>\n",
       "      <td>2025-03-01 07:36:12.280000+00:00</td>\n",
       "      <td>17950254656929862</td>\n",
       "      <td>Why use one scrub when you can use them all at...</td>\n",
       "      <td>Please bring back pink champagne</td>\n",
       "    </tr>\n",
       "    <tr>\n",
       "      <th>29</th>\n",
       "      <td>2025-03-01 08:12:11+00:00</td>\n",
       "      <td>1091781569658865</td>\n",
       "      <td>Morning routine with Tree Hut 🍊🫧 Now available...</td>\n",
       "      <td>Where I stores? I want to try</td>\n",
       "    </tr>\n",
       "    <tr>\n",
       "      <th>30</th>\n",
       "      <td>2025-03-01 06:12:33.682000+00:00</td>\n",
       "      <td>18021315083459733</td>\n",
       "      <td>Orange you glad it’s giveaway time?! 🍊✨\\n\\nTha...</td>\n",
       "      <td>These all look like they smell so citrus and d...</td>\n",
       "    </tr>\n",
       "    <tr>\n",
       "      <th>31</th>\n",
       "      <td>2025-03-01 09:49:34.924000+00:00</td>\n",
       "      <td>17945047313797602</td>\n",
       "      <td>Mixing up the perfect self-care potion \\nWhat’...</td>\n",
       "      <td>What's with the eyes😭</td>\n",
       "    </tr>\n",
       "    <tr>\n",
       "      <th>32</th>\n",
       "      <td>2025-03-01 10:43:38.026000+00:00</td>\n",
       "      <td>1091929799644042</td>\n",
       "      <td>Morning routine with Tree Hut 🍊🫧 Now available...</td>\n",
       "      <td>They have the best sugar scrub. I love the coc...</td>\n",
       "    </tr>\n",
       "    <tr>\n",
       "      <th>33</th>\n",
       "      <td>2025-03-01 09:34:28.996000+00:00</td>\n",
       "      <td>18021315083459733</td>\n",
       "      <td>Orange you glad it’s giveaway time?! 🍊✨\\n\\nTha...</td>\n",
       "      <td>'@nichols__24 🍊</td>\n",
       "    </tr>\n",
       "    <tr>\n",
       "      <th>34</th>\n",
       "      <td>2025-03-01 11:31:42.266000+00:00</td>\n",
       "      <td>1098465922323763</td>\n",
       "      <td>We couldn’t resist a little self-care moment w...</td>\n",
       "      <td>Its such a shame that you guys run Instagram o...</td>\n",
       "    </tr>\n",
       "  </tbody>\n",
       "</table>\n",
       "</div>"
      ]
     },
     "execution_count": 20,
     "metadata": {},
     "output_type": "execute_result"
    }
   ],
   "execution_count": 20
  },
  {
   "metadata": {
    "ExecuteTime": {
     "end_time": "2025-07-20T15:48:00.258339Z",
     "start_time": "2025-07-20T15:48:00.253907Z"
    }
   },
   "cell_type": "code",
   "source": "engagements_df['media_caption'].value_counts()",
   "id": "a8b696753aa48980",
   "outputs": [
    {
     "data": {
      "text/plain": [
       "media_caption\n",
       "APPLICATIONS ARE NOW CLOSED! 🚨 \\nThank you to everyone who applied! 💖\\n\\nBIG NEWS! 🚨 \\n\\nOur 2025 PR List Applications are officially OPEN! 🎉 Want in? Drop “TreeHut PR” in the comments & we’ll send you the link! 💌✨                                                                                                                                                                                                                                                                                                                                                                                                                                                                                                                                                                                                                                                                                                                        5762\n",
       "✨🌴SPRING BREAK GIVEAWAY 🌴✨\\n\\nWith spring break around the corner, we’re setting you up for the ultimate everything shower—because smooth, glowing skin is a vacay essential! ☀️🏝️\\n\\nEnter now for a chance to win! ⬇️🎉\\n\\n🌺How to Enter 🌺\\n1. . Give this and our last 3 post a double tap ❤️\\n2. Follow @treehut ✅\\n3. Tag a bestie who would love this 💅\\n4. Share this post on your story🤩\\n\\n**@treehut will be the only account contacting giveaway winners**\\nWinners will be notified by Instagram Direct Message on 3/17/2025This contest is in no way sponsored, administered, or associated with Instagram, Inc. By entering, entrants confirm they are US Residents 18+ years of age, release Instagram of responsibility and agree to Instagram's terms of use.\\n\\nLooking for your spring break essentials. Shop the Tropic Glow collection today at @target\\n\\n#treehut #treehutcollection #tropicglow #selfcare #giveaway    2459\n",
       "💦GIVEAWAY TIME💦\\n\\nIs your skin craving hydration? 💦 Enter our Lotus Water giveaway for a chance to dive into our newest collection! \\n\\n🪷How to Enter 🪷\\n1. . Give this and our last 3 post a double tap ❤️\\n2. Follow @treehut ✅\\n3. Tag a bestie who would love this 💅\\n4. Share this post on your story🤩\\n\\n**@treehut will be the only account contacting giveaway winners**\\nWinners will be notified by Instagram Direct Message on 3/31/2025 This contest is in no way sponsored, administered, or associated with Instagram, Inc. By entering, entrants confirm they are US Residents 18+ years of age, release Instagram of responsibility and agree to Instagram's terms of use.\\n\\n#treehut #treehutcollection #lotuswater #selfcare #giveaway                                                                                                                                                                                    1653\n",
       "that's that me espresso                                                                                                                                                                                                                                                                                                                                                                                                                                                                                                                                                                                                                                                                                                                                                                                                                                                                                                                       1222\n",
       "Ready to wake up to soft, hydrated lips? 💋✨ \\nEnter our giveaway for a chance to win our Overnight Lip Mask!\\n\\n💋How to Enter 💋\\n1. . Give this and our last 3 post a double tap ❤️\\n2. Follow @treehut ✅\\n3. Tag a bestie who would love this 💅\\n4. Share this post on your story🤩\\n\\n**@treehut will be the only account contacting giveaway winners**\\nWinners will be notified by Instagram Direct Message on 3/24/2025 This contest is in no way sponsored, administered, or associated with Instagram, Inc. By entering, entrants confirm they are US Residents 18+ years of age, release Instagram of responsibility and agree to Instagram's terms of use.\\n\\nShop today @walmart\\n#treehut #treehutcollection #lipcare #selfcare                                                                                                                                                                                                      982\n",
       "                                                                                                                                                                                                                                                                                                                                                                                                                                                                                                                                                                                                                                                                                                                                                                                                                                                                                                                                              ... \n",
       "Cleanse, Smooth, & Hydrate with Energizing Citrus🍊🫧                                                                                                                                                                                                                                                                                                                                                                                                                                                                                                                                                                                                                                                                                                                                                                                                                                                                                              1\n",
       "Cleanse, nourish, and lock-in moisture! Available now in a serum-infused blend                                                                                                                                                                                                                                                                                                                                                                                                                                                                                                                                                                                                                                                                                                                                                                                                                                                                   1\n",
       "Hand care is self-care🫧                                                                                                                                                                                                                                                                                                                                                                                                                                                                                                                                                                                                                                                                                                                                                                                                                                                                                                                          1\n",
       "When you're just a girly who's ready for summer already, Tropic Glow is the perfect way to bring those warm vibes early. With notes of caramel, sea salt, and sandalwood, it’s the ultimate way to add a little sunshine and sparkle to your self-care routine—no matter the forecast. ✨💅 Ready to glow?\\n\\nShop today Target                                                                                                                                                                                                                                                                                                                                                                                                                                                                                                                                                                                                                    1\n",
       "In the “look forward to bed all day” stage of pregnancy😅😴\\n\\n#3rdtrimester #3rdtrimesterroutine #thirdtrimesterproblems #39weeks #39weekspregnant #39weeksroutine #nighttime #nighttimeroutine #nighttimeritual #gurwm #bedtimeroutine #bedtime #pregnant #pregnancy #aussiemum #aussiemums #sydneymums #sydneymum #babybump #pregnancyroutine #pregnancyskincare #bumpfriendly #bumpcareroutine                                                                                                                                                                                                                                                                                                                                                                                                                                                                                                                                                 1\n",
       "Name: count, Length: 211, dtype: int64"
      ]
     },
     "execution_count": 56,
     "metadata": {},
     "output_type": "execute_result"
    }
   ],
   "execution_count": 56
  },
  {
   "metadata": {
    "ExecuteTime": {
     "end_time": "2025-07-20T16:03:56.317179Z",
     "start_time": "2025-07-20T16:03:56.315302Z"
    }
   },
   "cell_type": "code",
   "source": "my_df = engagements_df",
   "id": "235c4de4be5157bd",
   "outputs": [],
   "execution_count": 75
  },
  {
   "metadata": {
    "ExecuteTime": {
     "end_time": "2025-07-20T16:03:58.415712Z",
     "start_time": "2025-07-20T16:03:58.398803Z"
    }
   },
   "cell_type": "code",
   "source": [
    "# Date/Time Processing\n",
    "my_df['timestamp'] = pd.to_datetime(engagements_df['timestamp'],errors='coerce')\n",
    "my_df['year'] = my_df['timestamp'].dt.year\n",
    "my_df['month'] = my_df['timestamp'].dt.month\n",
    "my_df['day'] = my_df['timestamp'].dt.day\n",
    "my_df['hour'] = my_df['timestamp'].dt.hour"
   ],
   "id": "96f11ba93ca813f1",
   "outputs": [],
   "execution_count": 76
  },
  {
   "metadata": {
    "ExecuteTime": {
     "end_time": "2025-07-20T16:04:06.328416Z",
     "start_time": "2025-07-20T16:04:06.315832Z"
    }
   },
   "cell_type": "code",
   "source": "my_df.describe()",
   "id": "17c763acddd1676e",
   "outputs": [
    {
     "data": {
      "text/plain": [
       "           media_id     year         month           day          hour\n",
       "count  1.784100e+04  17825.0  17825.000000  17825.000000  17825.000000\n",
       "mean   1.523853e+16   2025.0      3.140140     16.257784     14.367069\n",
       "std    6.297452e+15      0.0      0.347142      8.784896      7.065834\n",
       "min    8.955051e+14   2025.0      3.000000      1.000000      0.000000\n",
       "25%    1.803634e+16   2025.0      3.000000     10.000000     11.000000\n",
       "50%    1.803634e+16   2025.0      3.000000     21.000000     17.000000\n",
       "75%    1.805140e+16   2025.0      3.000000     22.000000     20.000000\n",
       "max    1.849999e+16   2025.0      4.000000     31.000000     23.000000"
      ],
      "text/html": [
       "<div>\n",
       "<style scoped>\n",
       "    .dataframe tbody tr th:only-of-type {\n",
       "        vertical-align: middle;\n",
       "    }\n",
       "\n",
       "    .dataframe tbody tr th {\n",
       "        vertical-align: top;\n",
       "    }\n",
       "\n",
       "    .dataframe thead th {\n",
       "        text-align: right;\n",
       "    }\n",
       "</style>\n",
       "<table border=\"1\" class=\"dataframe\">\n",
       "  <thead>\n",
       "    <tr style=\"text-align: right;\">\n",
       "      <th></th>\n",
       "      <th>media_id</th>\n",
       "      <th>year</th>\n",
       "      <th>month</th>\n",
       "      <th>day</th>\n",
       "      <th>hour</th>\n",
       "    </tr>\n",
       "  </thead>\n",
       "  <tbody>\n",
       "    <tr>\n",
       "      <th>count</th>\n",
       "      <td>1.784100e+04</td>\n",
       "      <td>17825.0</td>\n",
       "      <td>17825.000000</td>\n",
       "      <td>17825.000000</td>\n",
       "      <td>17825.000000</td>\n",
       "    </tr>\n",
       "    <tr>\n",
       "      <th>mean</th>\n",
       "      <td>1.523853e+16</td>\n",
       "      <td>2025.0</td>\n",
       "      <td>3.140140</td>\n",
       "      <td>16.257784</td>\n",
       "      <td>14.367069</td>\n",
       "    </tr>\n",
       "    <tr>\n",
       "      <th>std</th>\n",
       "      <td>6.297452e+15</td>\n",
       "      <td>0.0</td>\n",
       "      <td>0.347142</td>\n",
       "      <td>8.784896</td>\n",
       "      <td>7.065834</td>\n",
       "    </tr>\n",
       "    <tr>\n",
       "      <th>min</th>\n",
       "      <td>8.955051e+14</td>\n",
       "      <td>2025.0</td>\n",
       "      <td>3.000000</td>\n",
       "      <td>1.000000</td>\n",
       "      <td>0.000000</td>\n",
       "    </tr>\n",
       "    <tr>\n",
       "      <th>25%</th>\n",
       "      <td>1.803634e+16</td>\n",
       "      <td>2025.0</td>\n",
       "      <td>3.000000</td>\n",
       "      <td>10.000000</td>\n",
       "      <td>11.000000</td>\n",
       "    </tr>\n",
       "    <tr>\n",
       "      <th>50%</th>\n",
       "      <td>1.803634e+16</td>\n",
       "      <td>2025.0</td>\n",
       "      <td>3.000000</td>\n",
       "      <td>21.000000</td>\n",
       "      <td>17.000000</td>\n",
       "    </tr>\n",
       "    <tr>\n",
       "      <th>75%</th>\n",
       "      <td>1.805140e+16</td>\n",
       "      <td>2025.0</td>\n",
       "      <td>3.000000</td>\n",
       "      <td>22.000000</td>\n",
       "      <td>20.000000</td>\n",
       "    </tr>\n",
       "    <tr>\n",
       "      <th>max</th>\n",
       "      <td>1.849999e+16</td>\n",
       "      <td>2025.0</td>\n",
       "      <td>4.000000</td>\n",
       "      <td>31.000000</td>\n",
       "      <td>23.000000</td>\n",
       "    </tr>\n",
       "  </tbody>\n",
       "</table>\n",
       "</div>"
      ]
     },
     "execution_count": 77,
     "metadata": {},
     "output_type": "execute_result"
    }
   ],
   "execution_count": 77
  },
  {
   "metadata": {
    "ExecuteTime": {
     "end_time": "2025-07-20T16:36:09.486218Z",
     "start_time": "2025-07-20T16:36:09.367747Z"
    }
   },
   "cell_type": "code",
   "source": [
    "my_df['day'].value_counts().sort_index().plot(kind='bar')\n",
    "plt.title('Day of comments')\n",
    "plt.xlabel('Day')\n",
    "plt.ylabel('count')\n",
    "plt.show()"
   ],
   "id": "81378e6c9a0a20de",
   "outputs": [
    {
     "data": {
      "text/plain": [
       "<Figure size 640x480 with 1 Axes>"
      ],
      "image/png": "[encoded data removed]"
     },
     "metadata": {},
     "output_type": "display_data"
    }
   ],
   "execution_count": 110
  },
  {
   "metadata": {
    "ExecuteTime": {
     "end_time": "2025-07-20T15:37:01.448170Z",
     "start_time": "2025-07-20T15:37:01.446133Z"
    }
   },
   "cell_type": "code",
   "source": [
    "###########\n",
    "# INSIGHT #\n",
    "###########\n",
    "\n",
    "# It would have been great to get influencer's or brands post data as well, but without knowing,\n",
    "# it seems that there are original posts on the 1st, the 10th, 21st, 24th and the 31st\n",
    "\n",
    "# The 21st seems to have been the most engaged post"
   ],
   "id": "b44776c940a939c1",
   "outputs": [],
   "execution_count": 43
  },
  {
   "metadata": {
    "ExecuteTime": {
     "end_time": "2025-07-20T15:39:47.388209Z",
     "start_time": "2025-07-20T15:39:47.283519Z"
    }
   },
   "cell_type": "code",
   "source": [
    "# posts by time on the 21st\n",
    "my_df['hour'][my_df['day'] == 21].value_counts().sort_index().plot(kind='bar')\n",
    "plt.title('21st of March posts')\n",
    "plt.xlabel('Hour')\n",
    "plt.ylabel('count')\n",
    "plt.show()"
   ],
   "id": "68e6af675b91b206",
   "outputs": [
    {
     "data": {
      "text/plain": [
       "<Figure size 640x480 with 1 Axes>"
      ],
      "image/png": "[encoded data removed]"
     },
     "metadata": {},
     "output_type": "display_data"
    }
   ],
   "execution_count": 47
  },
  {
   "metadata": {
    "ExecuteTime": {
     "end_time": "2025-07-20T15:50:02.423648Z",
     "start_time": "2025-07-20T15:50:02.418412Z"
    }
   },
   "cell_type": "code",
   "source": [
    "# posts by time on the 21st\n",
    "my_df['media_caption'][my_df['day'] == 21].value_counts()"
   ],
   "id": "bafbf2d94a474e84",
   "outputs": [
    {
     "data": {
      "text/plain": [
       "media_caption\n",
       "APPLICATIONS ARE NOW CLOSED! 🚨 \\nThank you to everyone who applied! 💖\\n\\nBIG NEWS! 🚨 \\n\\nOur 2025 PR List Applications are officially OPEN! 🎉 Want in? Drop “TreeHut PR” in the comments & we’ll send you the link! 💌✨                                                                                                                                                                                                                                                                                                                                                                                                                                                                                                                                                                                                                                                                                                                        3289\n",
       "Ready to wake up to soft, hydrated lips? 💋✨ \\nEnter our giveaway for a chance to win our Overnight Lip Mask!\\n\\n💋How to Enter 💋\\n1. . Give this and our last 3 post a double tap ❤️\\n2. Follow @treehut ✅\\n3. Tag a bestie who would love this 💅\\n4. Share this post on your story🤩\\n\\n**@treehut will be the only account contacting giveaway winners**\\nWinners will be notified by Instagram Direct Message on 3/24/2025 This contest is in no way sponsored, administered, or associated with Instagram, Inc. By entering, entrants confirm they are US Residents 18+ years of age, release Instagram of responsibility and agree to Instagram's terms of use.\\n\\nShop today @walmart\\n#treehut #treehutcollection #lipcare #selfcare                                                                                                                                                                                                       25\n",
       "Which bag fits your self-care vibe🤩\\n#treehut #treehutcollection #selfcareroutine                                                                                                                                                                                                                                                                                                                                                                                                                                                                                                                                                                                                                                                                                                                                                                                                                                                               11\n",
       "Run to get my fave for a year-round summer skin! 🏝🫧                                                                                                                                                                                                                                                                                                                                                                                                                                                                                                                                                                                                                                                                                                                                                                                                                                                                                             11\n",
       "Run to get my fave for a year-round summer skin! 🌙 🫧                                                                                                                                                                                                                                                                                                                                                                                                                                                                                                                                                                                                                                                                                                                                                                                                                                                                                            11\n",
       "Craving a sweet treat? Indulge in our NEW Jelly Bear Scrub, bursting with vibrant notes of orange, ginger, and vanilla! 🍊🍬✨                                                                                                                                                                                                                                                                                                                                                                                                                                                                                                                                                                                                                                                                                                                                                                                                                     10\n",
       "The everything shower is Mysterious and Important🚿                                                                                                                                                                                                                                                                                                                                                                                                                                                                                                                                                                                                                                                                                                                                                                                                                                                                                               8\n",
       "If you’re seeing this, it’s time to exfoliate ⏰                                                                                                                                                                                                                                                                                                                                                                                                                                                                                                                                                                                                                                                                                                                                                                                                                                                                                                  8\n",
       "These are not your average hand washes. 👀✨ \\n\\nMade with skin-loving ingredients to cleanse, hydrate, and leave your hands feeling silky smooth. Who’s adding this to their routine?\\n\\nShop today @ultabeauty\\n\\n#treehut #treehutcollection #handcare #selfcare                                                                                                                                                                                                                                                                                                                                                                                                                                                                                                                                                                                                                                                                                8\n",
       "Two different vibes, one tough choice 🤔✨ Are you team 🌹 Moroccan Rose or 🥥 Coco Colada? Drop your pick in the comments! 👇\\n\\nShop Tree Hut at @walgreens today!🛍️\\n\\n#treehut #treehutcollection #scrubs #selfcare                                                                                                                                                                                                                                                                                                                                                                                                                                                                                                                                                                                                                                                                                                                               7\n",
       "Vanilla isn’t just sweet—it’s self-care magic 🍦✨ Hydrating, soothing, and oh-so-calming. Grab our Vanilla Collection today @ultabeauty \\n\\n#treehut #treehutcollection #selfcare #vanilla                                                                                                                                                                                                                                                                                                                                                                                                                                                                                                                                                                                                                                                                                                                                                        7\n",
       "Soft skin, soft life 🩷🌸🫧 get your hands on this self-care gem!                                                                                                                                                                                                                                                                                                                                                                                                                                                                                                                                                                                                                                                                                                                                                                                                                                                                                   6\n",
       "Nightly routine with Tree Hut 🌙 🫧 Now available online and in-store                                                                                                                                                                                                                                                                                                                                                                                                                                                                                                                                                                                                                                                                                                                                                                                                                                                                              5\n",
       "It’s always golden hour with Sunkissed Poppy ☀️ \\n\\nFor our scent experts:\\nTop: Clementine, Blue Freesia & Merlot Grapes \\nMiddle: Violet & White Lily\\nBottom: Musk, Sandalwood & Amber                                                                                                                                                                                                                                                                                                                                                                                                                                                                                                                                                                                                                                                                                                                                                        5\n",
       "✨🌴SPRING BREAK GIVEAWAY 🌴✨\\n\\nWith spring break around the corner, we’re setting you up for the ultimate everything shower—because smooth, glowing skin is a vacay essential! ☀️🏝️\\n\\nEnter now for a chance to win! ⬇️🎉\\n\\n🌺How to Enter 🌺\\n1. . Give this and our last 3 post a double tap ❤️\\n2. Follow @treehut ✅\\n3. Tag a bestie who would love this 💅\\n4. Share this post on your story🤩\\n\\n**@treehut will be the only account contacting giveaway winners**\\nWinners will be notified by Instagram Direct Message on 3/17/2025This contest is in no way sponsored, administered, or associated with Instagram, Inc. By entering, entrants confirm they are US Residents 18+ years of age, release Instagram of responsibility and agree to Instagram's terms of use.\\n\\nLooking for your spring break essentials. Shop the Tropic Glow collection today at @target\\n\\n#treehut #treehutcollection #tropicglow #selfcare #giveaway       5\n",
       "Self-care so good, it deserves its own gallery🖼️                                                                                                                                                                                                                                                                                                                                                                                                                                                                                                                                                                                                                                                                                                                                                                                                                                                                                                 5\n",
       "What's your self-care alignment?! Ours is somewhere in between chaotic good and chaotic neutral😌                                                                                                                                                                                                                                                                                                                                                                                                                                                                                                                                                                                                                                                                                                                                                                                                                                                 5\n",
       "When I say I’m walking into Target  for a few things… these are the few things I’m talking about💅\\n\\n📸:@leahjane\\nWant to be featured on our page? 🌟 Tag us in your photos or videos using our products, and you might just see yourself glowing on our feed! 💅                                                                                                                                                                                                                                                                                                                                                                                                                                                                                                                                                                                                                                                                                  4\n",
       "Mixing up the perfect self-care potion \\nWhat’s in your recipe?🫧✨ \\n\\nShop our vanilla collection today @walmart 🍦\\n#treehut #treehutcollection #selfcare #lifestyle                                                                                                                                                                                                                                                                                                                                                                                                                                                                                                                                                                                                                                                                                                                                                                             4\n",
       "You asked… and we delivered📬\\n\\nExcited to introduce NEW scents in our fragrance mist collection: \\n\\n🥥COCO COLADA🥥\\nWith notes of coconut, pineapple, and coconut milk \\n\\n🏖️PASSIONFRUIT SOL🏖️\\nWith notes of hawaiian pineapple, water lily, and a hint of relaxing jasmine \\n\\n🍦VANILLA🍦\\nWith notes of smooth vanilla, warm sandalwood, and coconut cream\\n\\nP.S Misting your hair works perfectly with our alcohol-free formula!                                                                                                                                                                                                                                                                                                                                                                                                                                                                                                           4\n",
       "*slams laptop shut* ✌️🚿🌴 click the link to get my fave sugar scrub                                                                                                                                                                                                                                                                                                                                                                                                                                                                                                                                                                                                                                                                                                                                                                                                                                                                               4\n",
       "Say goodbye to nicks and hello to smoothness with our Pre-Shave Foaming Polish! Your skins new BFF✨\\n\\nShop today online @amazon!                                                                                                                                                                                                                                                                                                                                                                                                                                                                                                                                                                                                                                                                                                                                                                                                                3\n",
       "Morning routine with Tree Hut 🍊🫧 Now available online and in-store!                                                                                                                                                                                                                                                                                                                                                                                                                                                                                                                                                                                                                                                                                                                                                                                                                                                                              3\n",
       "So many icons spotted at the red carpet 🤩                                                                                                                                                                                                                                                                                                                                                                                                                                                                                                                                                                                                                                                                                                                                                                                                                                                                                                        3\n",
       "Can you find the all of the scrubs👀                                                                                                                                                                                                                                                                                                                                                                                                                                                                                                                                                                                                                                                                                                                                                                                                                                                                                                              3\n",
       "My go-to feel good, smell good routine! 🩷🌸🫧                                                                                                                                                                                                                                                                                                                                                                                                                                                                                                                                                                                                                                                                                                                                                                                                                                                                                                      2\n",
       "Formulated to give you soft and supple hands after every use.\\n\\nMade with:\\n🌿Natural Plant Based Cleansers\\n💦Hyaluronic Acid\\n🫧Ceramides\\n\\nShop today Walmart                                                                                                                                                                                                                                                                                                                                                                                                                                                                                                                                                                                                                                                                                                                                                                                  2\n",
       "Trios never work? Our Moroccan Rose shave routine says otherwise.\\n\\nUse our Pre-Shave, Shave Oil, and After Shave for the smoothest, most flawless shave every time🙌\\n\\nFind it in the shave aisle @target!\\n#treehut #treehutcollection #shaveroutine #selfcare                                                                                                                                                                                                                                                                                                                                                                                                                                                                                                                                                                                                                                                                                2\n",
       "Exfoliate, renew, and hydrate with our Coco Colada Pre-Shave Foaming Polish!\\n\\n💦Lactic Acid to renew and smooth\\n💦Allantoin to soothe and hydrate \\n💦Sugar crystals to exfoliate \\n\\nPerfect prep for a closer, smoother shave. 💅\\n\\n📸:@_selfcarebabe\\nShop today at Walmart \\n\\n#treehut #treehutcollection #selfcare #new                                                                                                                                                                                                                                                                                                                                                                                                                                                                                                                                                                                                                     2\n",
       "Say bye to irritation, bumps & ingrowns! 👋 Our Pre-Shave Polish preps your skin with gentle exfoliation, so every shave is smooth, effortless, and irritation-free.\\n\\nAvailable today Ulta Beauty                                                                                                                                                                                                                                                                                                                                                                                                                                                                                                                                                                                                                                                                                                                                               2\n",
       "Oh I’m a Jelly Bear, yeah I’m a Jelly Bear!\\nI’m going to scrub and smooth and hydrate everywhere! Oh Yeah!🫧\\n\\nFor our scent experts:\\nTop Notes: Orange and Lime\\nMiddle Notes: Ginger, Blackberry, Raspberry\\nBottom Notes: Vanilla\\n\\n#treehut #treehutcollection #jellybear #asmr #satisfying #selfcare #sheasugarscrub                                                                                                                                                                                                                                                                                                                                                                                                                                                                                                                                                                                                                     2\n",
       "Shave, hydrate, and shine with the Vanilla self-care collection.                                                                                                                                                                                                                                                                                                                                                                                                                                                                                                                                                                                                                                                                                                                                                                                                                                                                                 2\n",
       "Long-Lasting ✅ Alcohol Free ✅ Hydrating ✅ \\nIt’s official… Our fragrance mists are the total package📦\\n\\n#treehut #treehutcollection #fragrancemist #asmr #satisfying                                                                                                                                                                                                                                                                                                                                                                                                                                                                                                                                                                                                                                                                                                                                                                            2\n",
       "Plant-based self-care for nourishing hydration. Now available!                                                                                                                                                                                                                                                                                                                                                                                                                                                                                                                                                                                                                                                                                                                                                                                                                                                                                   1\n",
       "Ready to wake up to soft, hydrated lips? 💋✨ Our Overnight Lip Mask works while you sleep, so you can rise and shine with the smoothest pout ever.\\nShop today at Walmart                                                                                                                                                                                                                                                                                                                                                                                                                                                                                                                                                                                                                                                                                                                                                                         1\n",
       "Your smoothest, glowiest shave starts here ✨\\n\\nPREP with our Pre-Shave Foaming Polish for ultra-soft skin.\\n\\nSHAVE with our Moisturizing Shave Oil for a close, hydrating glide 🪒💦\\n\\nFINISH with our After Shave Serum to keep skin soothed, smooth, and bump-free 💖\\n\\nThe Moroccan Rose shave routine you need—shop now at Ulta Beauty !                                                                                                                                                                                                                                                                                                                                                                                                                                                                                                                                                                                                    1\n",
       "spring grwm 💐  #lifestyle #spring #grwm #fyp #foryoupageシ #lifestylegrwm #march                                                                                                                                                                                                                                                                                                                                                                                                                                                                                                                                                                                                                                                                                                                                                                                                                                                                  1\n",
       "We couldn’t resist a little self-care moment with our besties over at @chillhousesoho , so we made it happen! 💅\\n \\nWe had the best time celebrating our favorite spring essentials with our incredible community. From complimentary manicures to experiencing our newest collection, we enjoyed pampering and celebrating our favorite spring essentials with you! Huge thank you to everyone who stopped by to treat themselves and get the latest Tree Hut scoop—we loved every second of it! 💖 Until next time, besties! ✨                                                                                                                                                                                                                                                                                                                                                                                                                  1\n",
       "About my favorite scent of the moment. I’m in love.\\n\\nI love these treehut products. But the body scrub has a special place in my heart. Every week I choose a day to have that premium bath, and it can’t be without exfoliation, and of course it has to be with them Tree hut. \\n\\nThank you for being part of my life. treehut 💖🌱                                                                                                                                                                                                                                                                                                                                                                                                                                                                                                                                                                                                           1\n",
       "Happy Valentines Day besties. Sending you love and a relaxing day of self-care because you deserve it💘                                                                                                                                                                                                                                                                                                                                                                                                                                                                                                                                                                                                                                                                                                                                                                                                                                           1\n",
       "Them: How many times did you watch this? Me: Yes😃\\n\\n#treehut #treehutcollection #enchantedjasmine #selfcare                                                                                                                                                                                                                                                                                                                                                                                                                                                                                                                                                                                                                                                                                                                                                                                                                                     1\n",
       "The gang’s all here <3 \\n\\nTrust us, once you try this Tangerine routine, there’s no going back 🍊🫧 \\n\\nBrighten, smooth, and glow with our juiciest scent yet! ✨\\n\\n#treehut #treehutcollection #newness #selfcare                                                                                                                                                                                                                                                                                                                                                                                                                                                                                                                                                                                                                                                                                                                               1\n",
       "What's your go-to coffee order? 😍\\n\\nGet the caffeine boost you need with Iced Coffee or a warm, sugary sweet treat with Cinnamon Dolce! \\n\\n📸: @totally.treehut2\\n\\n#treehut #treehutcollection #bodycareroutine                                                                                                                                                                                                                                                                                                                                                                                                                                                                                                                                                                                                                                                                                                                                1\n",
       "Reasons We’re Obsessed with Our NEW Overnight Lip Mask 💋✨\\n\\n1️⃣ Beauty Sleep for Your Lips – Wake up with soft, nourished lips while you snooze 😴💖\\n2️⃣ Deep Hydration – Packed with ultra-moisturizing ingredients to replenish dry lips overnight 💦\\n3️⃣ Silky Smooth Formula – No sticky feel, just a luxe, buttery texture that melts right in ✨\\n\\n#treehut #treehutcollection #overnightlipmask #hydrating                                                                                                                                                                                                                                                                                                                                                                                                                                                                                                                                1\n",
       "Sunshine in a jar? Yes, please! 🍊✨\\n\\nOur Tangerine Scrub is more than just exfoliation—it’s powered by Vitamin C to brighten and even skin tone, Turmeric to help soothe and balance, and Salicylic Acid to clarify and smooth. Plus, its zesty citrus blend refreshes and energizes for your juiciest glow yet.\\n\\nFind yours at @meijerstores today!\\n\\n#treehut #treehutcollection #tangerinescrub #vitaminc #selfcare                                                                                                                                                                                                                                                                                                                                                                                                                                                                                                                       1\n",
       "If you see me deep in thought in the Tree Hut section @target, you know exactly what I’m up too…💅\\n\\n#treehut #treehutcollection #selfcare #selfcarehaul                                                                                                                                                                                                                                                                                                                                                                                                                                                                                                                                                                                                                                                                                                                                                                                         1\n",
       "Get transported to a tropical paradise with our juiciest scrub yet! 🍍💚 \\n\\n📸: @kristi_navi\\n\\n#treehut #treehutcollection #bodycareroutine                                                                                                                                                                                                                                                                                                                                                                                                                                                                                                                                                                                                                                                                                                                                                                                                       1\n",
       "Get a hydrated shave and reduce irritation with this three-step routine!                                                                                                                                                                                                                                                                                                                                                                                                                                                                                                                                                                                                                                                                                                                                                                                                                                                                         1\n",
       "Our award-winning sugar scrub just became your latest lip hero 🍦✨\\nNow available in our cult-fave Vanilla scent ⚡                                                                                                                                                                                                                                                                                                                                                                                                                                                                                                                                                                                                                                                                                                                                                                                                                                1\n",
       "Tangerine - All I Need! 🍊✨                                                                                                                                                                                                                                                                                                                                                                                                                                                                                                                                                                                                                                                                                                                                                                                                                                                                                                                       1\n",
       "Hand care is self-care🫧                                                                                                                                                                                                                                                                                                                                                                                                                                                                                                                                                                                                                                                                                                                                                                                                                                                                                                                          1\n",
       "Long-Lasting ✅ Alcohol Free ✅ Hydrating ✅ \\nIt’s official… Our fragrance mists are the total package📦                                                                                                                                                                                                                                                                                                                                                                                                                                                                                                                                                                                                                                                                                                                                                                                                                                            1\n",
       "When you're just a girly who's ready for summer already, Tropic Glow is the perfect way to bring those warm vibes early. With notes of caramel, sea salt, and sandalwood, it’s the ultimate way to add a little sunshine and sparkle to your self-care routine—no matter the forecast. ✨💅 Ready to glow?\\n\\nShop today Target                                                                                                                                                                                                                                                                                                                                                                                                                                                                                                                                                                                                                    1\n",
       "Swipe right or left… either way, our Pineapple Lip Butter will keep your lips soft, smooth, and feeling tropical. 🍍💋                                                                                                                                                                                                                                                                                                                                                                                                                                                                                                                                                                                                                                                                                                                                                                                                                             1\n",
       "We're just speaking the truth for all our self-care girlies out there ☺️💅\\n\\nHead on over to @meijerstores and find your perfect self-care routine! 🛁✨\\n\\n#treehut #treehutcollection #valentinesday #scrubs #selfcare #vanilla                                                                                                                                                                                                                                                                                                                                                                                                                                                                                                                                                                                                                                                                                                                  1\n",
       "When you're just a girly who's ready for summer already, Tropic Glow is the perfect way to bring those warm vibes early. With notes of caramel, sea salt, and sandalwood, it’s the ultimate way to add a little sunshine and sparkle to your self-care routine—no matter the forecast. ✨💅 Ready to glow?\\n\\nShop today @target\\n#treehut #treehutcollection #tropicglow #sparkle #selfcare                                                                                                                                                                                                                                                                                                                                                                                                                                                                                                                                                       1\n",
       "Sometimes you gotta make your everything shower more interesting 💅✨\\n#moonlightglow #everythingshower                                                                                                                                                                                                                                                                                                                                                                                                                                                                                                                                                                                                                                                                                                                                                                                                                                            1\n",
       "Name: count, dtype: int64"
      ]
     },
     "execution_count": 58,
     "metadata": {},
     "output_type": "execute_result"
    }
   ],
   "execution_count": 58
  },
  {
   "metadata": {},
   "cell_type": "code",
   "outputs": [],
   "execution_count": null,
   "source": "# This was for the 2025 PR list of applications",
   "id": "831544afa7cbb73f"
  },
  {
   "metadata": {
    "ExecuteTime": {
     "end_time": "2025-07-20T15:40:07.384626Z",
     "start_time": "2025-07-20T15:40:07.281203Z"
    }
   },
   "cell_type": "code",
   "source": [
    "# posts by time on the 1st\n",
    "my_df['hour'][my_df['day'] == 1].value_counts().sort_index().plot(kind='bar')\n",
    "plt.title('1st of March posts')\n",
    "plt.xlabel('Hour')\n",
    "plt.ylabel('count')\n",
    "plt.show()"
   ],
   "id": "5d68f8a860007db",
   "outputs": [
    {
     "data": {
      "text/plain": [
       "<Figure size 640x480 with 1 Axes>"
      ],
      "image/png": "[encoded data removed]"
     },
     "metadata": {},
     "output_type": "display_data"
    }
   ],
   "execution_count": 49
  },
  {
   "metadata": {
    "ExecuteTime": {
     "end_time": "2025-07-20T15:51:38.023258Z",
     "start_time": "2025-07-20T15:51:38.019179Z"
    }
   },
   "cell_type": "code",
   "source": [
    "# posts by time on the 21st\n",
    "my_df['media_caption'][my_df['day'] == 1].value_counts()"
   ],
   "id": "af2268072453f2b0",
   "outputs": [
    {
     "data": {
      "text/plain": [
       "media_caption\n",
       "✨Time for a Giveaway✨\\n\\nA spritz a day keeps the bad smells away! 😌✨ That’s why we’re giving away our latest Fragrance Mist! Want in? Enter now for a chance to win! 💖\\n\\n🪷How to Enter 🪷\\n1. . Give this and our last 3 post a double tap ❤️\\n2. Follow @treehut ✅\\n3. Tag a bestie who would love this 💅\\n4. Share this post on your story🤩\\n\\n**@treehut will be the only account contacting giveaway winners**\\nWinners will be notified by Instagram Direct Message on 4/07/2025 This contest is in no way sponsored, administered, or associated with Instagram, Inc. By entering, entrants confirm they are US Residents 18+ years of age, release Instagram of responsibility and agree to Instagram's terms of use.\\n\\n#treehut #treehutcollection #fragrance #selfcare #giveaway                                                                                                   331\n",
       "You know what we can’t relate to? Dry skin. ✋❌\\n\\nMeet the Espresso Martini Collection—your skin’s ultimate pick-me-up after those late-night grinds✨\\n\\n#treehut #treehutcollection #selfcare #thatsthatmeespresso                                                                                                                                                                                                                                                                                                                                                                                                                                                                                                                                                                                                                                                                           329\n",
       "that's that me espresso                                                                                                                                                                                                                                                                                                                                                                                                                                                                                                                                                                                                                                                                                                                                                                                                                                                                       146\n",
       "You know what we can’t relate to? Dry skin. ✋❌\\n\\nMeet the Espresso Martini Collection—your skin’s ultimate pick-me-up after those late-night grinds✨                                                                                                                                                                                                                                                                                                                                                                                                                                                                                                                                                                                                                                                                                                                                         109\n",
       "Orange you glad it’s giveaway time?! 🍊✨\\n\\nThat’s right, besties—we’re giving away our entire Tangerine collection! 🧡 Including the classic scrub, pre-shave polish, moisturizing shave oil, lotion, and serum-infused hand wash.\\n\\nEnter now for a chance to win! ⬇️🎉\\n\\n 🍊How to Enter 🍊\\n1. . Give this and our last 3 post a double tap 🧡\\n2. Follow @treehut ✅\\n3. Tag a bestie who would love this 💅\\n4. Share this post on your story🤩\\n\\n**@treehut will be the only account contacting giveaway winners**\\nWinners will be notified by Instagram Direct Message on 3/03/2025This contest is in no way sponsored, administered, or associated with Instagram, Inc. By entering, entrants confirm they are US Residents 18+ years of age, release Instagram of responsibility and agree to Instagram's terms of use.\\n\\n#treehut #treehutcollection #giveaway #tangerine #selfcare     37\n",
       "                                                                                                                                                                                                                                                                                                                                                                                                                                                                                                                                                                                                                                                                                                                                                                                                                                                                                             ... \n",
       "POV: You just unlocked the ultimate Orange Creamsicle scent combo 🍊🍦✨                                                                                                                                                                                                                                                                                                                                                                                                                                                                                                                                                                                                                                                                                                                                                                                                                           1\n",
       "Turning a grocery run into a self-care sesh? Yes, please! ✨ \\n\\nFind all your shave essentials, including our Pre-Shave Foaming Polish, at @Walmart today\\n\\n#treehut #treehutcollection #selfcare #haul #shave                                                                                                                                                                                                                                                                                                                                                                                                                                                                                                                                                                                                                                                                                 1\n",
       "Which WintHER scrub fits your vibe✨                                                                                                                                                                                                                                                                                                                                                                                                                                                                                                                                                                                                                                                                                                                                                                                                                                                             1\n",
       "Vanilla Serum-Infused Hand Wash: A sweet escape for dry hands.                                                                                                                                                                                                                                                                                                                                                                                                                                                                                                                                                                                                                                                                                                                                                                                                                                  1\n",
       "No passport is required when you use our Tropic Glow Collection.\\n\\nGet the ultimate sun-kissed radiance from head to toe, all without leaving your bathroom. 🏝️\\n\\n📸: @someshellyphotography\\n#treehut #treehutcollection #selfcare #tropicglow                                                                                                                                                                                                                                                                                                                                                                                                                                                                                                                                                                                                                                                1\n",
       "Name: count, Length: 69, dtype: int64"
      ]
     },
     "execution_count": 59,
     "metadata": {},
     "output_type": "execute_result"
    }
   ],
   "execution_count": 59
  },
  {
   "metadata": {},
   "cell_type": "code",
   "outputs": [],
   "execution_count": null,
   "source": "# This was for a Fragrance Mist giveaway",
   "id": "ebd901527a660488"
  },
  {
   "metadata": {
    "ExecuteTime": {
     "end_time": "2025-07-20T15:41:51.090755Z",
     "start_time": "2025-07-20T15:41:50.912332Z"
    }
   },
   "cell_type": "code",
   "source": [
    "# posts by time on the 10th\n",
    "my_df['hour'][my_df['day'] == 10].value_counts().sort_index().plot(kind='bar')\n",
    "plt.title('10th of March posts')\n",
    "plt.xlabel('Hour')\n",
    "plt.ylabel('count')\n",
    "plt.show()"
   ],
   "id": "916ce971dac22b1e",
   "outputs": [
    {
     "data": {
      "text/plain": [
       "<Figure size 640x480 with 1 Axes>"
      ],
      "image/png": "[encoded data removed]"
     },
     "metadata": {},
     "output_type": "display_data"
    }
   ],
   "execution_count": 53
  },
  {
   "metadata": {
    "ExecuteTime": {
     "end_time": "2025-07-20T15:53:02.427633Z",
     "start_time": "2025-07-20T15:53:02.422971Z"
    }
   },
   "cell_type": "code",
   "source": [
    "# posts by time on the 21st\n",
    "my_df['media_caption'][my_df['day'] == 10].value_counts()"
   ],
   "id": "959a3a2e960e9373",
   "outputs": [
    {
     "data": {
      "text/plain": [
       "media_caption\n",
       "✨🌴SPRING BREAK GIVEAWAY 🌴✨\\n\\nWith spring break around the corner, we’re setting you up for the ultimate everything shower—because smooth, glowing skin is a vacay essential! ☀️🏝️\\n\\nEnter now for a chance to win! ⬇️🎉\\n\\n🌺How to Enter 🌺\\n1. . Give this and our last 3 post a double tap ❤️\\n2. Follow @treehut ✅\\n3. Tag a bestie who would love this 💅\\n4. Share this post on your story🤩\\n\\n**@treehut will be the only account contacting giveaway winners**\\nWinners will be notified by Instagram Direct Message on 3/17/2025This contest is in no way sponsored, administered, or associated with Instagram, Inc. By entering, entrants confirm they are US Residents 18+ years of age, release Instagram of responsibility and agree to Instagram's terms of use.\\n\\nLooking for your spring break essentials. Shop the Tropic Glow collection today at @target\\n\\n#treehut #treehutcollection #tropicglow #selfcare #giveaway    967\n",
       "Say goodbye to dry hands. 👋 \\n\\nOur Serum-Infused Hand Wash is packed with moisturizing ingredients for a gentle cleanse that leaves your hands soft, smooth, and feeling refreshed.\\n\\nShop today @walmart\\n#treehut #treehutcollection #handwash #hydrating                                                                                                                                                                                                                                                                                                                                                                                                                                                                                                                                                                                                                                                                                  41\n",
       "Oh I’m a Jelly Bear, yeah I’m a Jelly Bear!\\nI’m going to scrub and smooth and hydrate everywhere! Oh Yeah!🫧\\n\\nFor our scent experts:\\nTop Notes: Orange and Lime\\nMiddle Notes: Ginger, Blackberry, Raspberry\\nBottom Notes: Vanilla\\n\\n#treehut #treehutcollection #jellybear #asmr #satisfying #selfcare #sheasugarscrub                                                                                                                                                                                                                                                                                                                                                                                                                                                                                                                                                                                                                   34\n",
       "Can you find the all of the scrubs👀                                                                                                                                                                                                                                                                                                                                                                                                                                                                                                                                                                                                                                                                                                                                                                                                                                                                                                            11\n",
       "Run to get my fave for a year-round summer skin! 🏝🫧                                                                                                                                                                                                                                                                                                                                                                                                                                                                                                                                                                                                                                                                                                                                                                                                                                                                                             9\n",
       "Drop a 🪷 if you're obsessed with Lotus Water!                                                                                                                                                                                                                                                                                                                                                                                                                                                                                                                                                                                                                                                                                                                                                                                                                                                                                                   7\n",
       "We don’t gatekeep the ultimate everything shower, besties. 😉✨\\n\\nShop the Moroccan Rose collection—available now @ultabeauty 💖🚿\\n#treehut #treehutcollection #moroccanrose #everythingshower #selfcareroutine                                                                                                                                                                                                                                                                                                                                                                                                                                                                                                                                                                                                                                                                                                                                   7\n",
       "Morning routine with Tree Hut 🍊🫧 Now available online and in-store!                                                                                                                                                                                                                                                                                                                                                                                                                                                                                                                                                                                                                                                                                                                                                                                                                                                                             6\n",
       "Swipe right or left… either way, our Pineapple Lip Butter will keep your lips soft, smooth and feeling tropical 🍍💋\\n\\n#treehut #treehutcollection #lipbutter #hydrating                                                                                                                                                                                                                                                                                                                                                                                                                                                                                                                                                                                                                                                                                                                                                                         6\n",
       "Nightly routine with Tree Hut 🌙 🫧 Now available online and in-store                                                                                                                                                                                                                                                                                                                                                                                                                                                                                                                                                                                                                                                                                                                                                                                                                                                                             6\n",
       "So many icons spotted at the Oscars red carpet 🤩                                                                                                                                                                                                                                                                                                                                                                                                                                                                                                                                                                                                                                                                                                                                                                                                                                                                                                4\n",
       "Tropic Glow’s the vibe for your spring break shine☀️\\n\\nShop the collection today at Target                                                                                                                                                                                                                                                                                                                                                                                                                                                                                                                                                                                                                                                                                                                                                                                                                                                     3\n",
       "Reasons We’re Obsessed with Our NEW Overnight Lip Mask 💋✨\\n\\n1️⃣ Beauty Sleep for Your Lips – Wake up with soft, nourished lips while you snooze 😴💖\\n2️⃣ Deep Hydration – Packed with ultra-moisturizing ingredients to replenish dry lips overnight 💦\\n3️⃣ Silky Smooth Formula – No sticky feel, just a luxe, buttery texture that melts right in ✨\\n\\n#treehut #treehutcollection #overnightlipmask #hydrating                                                                                                                                                                                                                                                                                                                                                                                                                                                                                                                               3\n",
       "Plant-based self-care for nourishing hydration. Now available!                                                                                                                                                                                                                                                                                                                                                                                                                                                                                                                                                                                                                                                                                                                                                                                                                                                                                  2\n",
       "*slams laptop shut* ✌️🚿🌴 click the link to get my fave sugar scrub                                                                                                                                                                                                                                                                                                                                                                                                                                                                                                                                                                                                                                                                                                                                                                                                                                                                              2\n",
       "If you see me deep in thought in the Tree Hut section @target, you know exactly what I’m up too…💅\\n\\n#treehut #treehutcollection #selfcare #selfcarehaul                                                                                                                                                                                                                                                                                                                                                                                                                                                                                                                                                                                                                                                                                                                                                                                        2\n",
       "My go-to feel good, smell good routine! 🩷🌸🫧                                                                                                                                                                                                                                                                                                                                                                                                                                                                                                                                                                                                                                                                                                                                                                                                                                                                                                     2\n",
       "Run to get my fave for a year-round summer skin! 🌙 🫧                                                                                                                                                                                                                                                                                                                                                                                                                                                                                                                                                                                                                                                                                                                                                                                                                                                                                            2\n",
       "There’s always room for one more scrub💅✨ Which scrub is your ultimate fave? Drop it in the comments!👇\\n#treehut #treehutcollection #treehutscrub #selfcare                                                                                                                                                                                                                                                                                                                                                                                                                                                                                                                                                                                                                                                                                                                                                                                      1\n",
       "Sensitive skin besties, this one’s for you. 🍊✨ \\nOur Tangerine Pre-Shave Foaming Polish gives you that just right exfoliation—gentle, hydrating, and perfect for a smooth, irritation-free shave.\\n\\nShop today @ultabeauty\\n\\n#treehut #treehutcollection #gentle #selfcare #exfoliator #tangerine                                                                                                                                                                                                                                                                                                                                                                                                                                                                                                                                                                                                                                             1\n",
       "Gently exfoliate the most sensitive of areas with refined sugar crystals.                                                                                                                                                                                                                                                                                                                                                                                                                                                                                                                                                                                                                                                                                                                                                                                                                                                                       1\n",
       "My favorite part of my 5-9🍊🫧                                                                                                                                                                                                                                                                                                                                                                                                                                                                                                                                                                                                                                                                                                                                                                                                                                                                                                                    1\n",
       "Porque tus manos merecen más que solo uñas bonitas… Merecen un momento de amor y relax.” ✨\\nUn spa de manos con pétalos, sales exfoliantes y todo un ambiente acogedor, pensado para que te desconectes y te consientas como te mereces.\\n¿Te gustaría vivir esta experiencia? Reserva tu cita.\\n\\nHashtags:\\n#SpaDeManos\\n#NailSpaExperience\\n#ManosBonitasCuidadoCompleto\\n#UñasYBienestar\\n#relaxandnails                                                                                                                                                                                                                                                                                                                                                                                                                                                                                                                                    1\n",
       "Click the link to shop Coco Colada Pre-Shave Foaming Polish                                                                                                                                                                                                                                                                                                                                                                                                                                                                                                                                                                                                                                                                                                                                                                                                                                                                                     1\n",
       "Take the glow wherever you go with our limited-time ‘Glitz on the Glow’ gift set🤩🤩 \\n\\nTag your travel bestie!!\\n\\n#treehut #treehutcollection #tropicglow #travel #winther                                                                                                                                                                                                                                                                                                                                                                                                                                                                                                                                                                                                                                                                                                                                                                     1\n",
       "🫧IT’S GIVEAWAY TIME🫧\\n\\nReady for your smoothest shave ever? 😏 Enter for a chance to win our new Pre-Shave Polish, formulated for sensitive areas like your bikini line and underarms!\\n\\n⭐️How to Enter ⭐️\\n1. . Give this and our last 3 post a double tap 🧡\\n2. Follow @treehut ✅\\n3. Tag a bestie who would love this 💅\\n4. Share this post on your story🤩\\n\\n**@treehut will be the only account contacting giveaway winners**\\nWinners will be notified by Instagram Direct Message on 2/17/2025 This contest is in no way sponsored, administered, or associated with Instagram, Inc. By entering, entrants confirm they are US Residents 18+ years of age, release Instagram of responsibility and agree to Instagram's terms of use.\\n\\nAvailable today @ultabeauty\\n#treehut #treehutcollection #giveaway #preshave #selfcare                                                                                                         1\n",
       "Why use one scrub when you can use them all at once 🤩\\n\\n#treehut #treehutcollection #megascrub                                                                                                                                                                                                                                                                                                                                                                                                                                                                                                                                                                                                                                                                                                                                                                                                                                                 1\n",
       "Night routine with my go-to sweet fix @treehut 🧁💋                                                                                                                                                                                                                                                                                                                                                                                                                                                                                                                                                                                                                                                                                                                                                                                                                                                                                               1\n",
       "Get a hydrated shave and reduce irritation with this three-step routine!                                                                                                                                                                                                                                                                                                                                                                                                                                                                                                                                                                                                                                                                                                                                                                                                                                                                        1\n",
       "We said what we said✨💅\\n\\n#treehut #treehutcollection #icons                                                                                                                                                                                                                                                                                                                                                                                                                                                                                                                                                                                                                                                                                                                                                                                                                                                                                    1\n",
       "Mixing up the perfect self-care potion \\nWhat’s in your recipe?🫧✨ \\n\\nShop our vanilla collection today @walmart 🍦\\n#treehut #treehutcollection #selfcare #lifestyle                                                                                                                                                                                                                                                                                                                                                                                                                                                                                                                                                                                                                                                                                                                                                                            1\n",
       "Name: count, dtype: int64"
      ]
     },
     "execution_count": 60,
     "metadata": {},
     "output_type": "execute_result"
    }
   ],
   "execution_count": 60
  },
  {
   "metadata": {},
   "cell_type": "code",
   "outputs": [],
   "execution_count": null,
   "source": "# SpringBreak Giveaway",
   "id": "c040578c7d534c1f"
  },
  {
   "metadata": {
    "ExecuteTime": {
     "end_time": "2025-07-20T15:41:58.955212Z",
     "start_time": "2025-07-20T15:41:58.859023Z"
    }
   },
   "cell_type": "code",
   "source": [
    "# posts by time on the 24th\n",
    "my_df['hour'][my_df['day'] == 24].value_counts().sort_index().plot(kind='bar')\n",
    "plt.title('24th of March posts')\n",
    "plt.xlabel('Hour')\n",
    "plt.ylabel('count')\n",
    "plt.show()"
   ],
   "id": "30c2d2abf064fa3f",
   "outputs": [
    {
     "data": {
      "text/plain": [
       "<Figure size 640x480 with 1 Axes>"
      ],
      "image/png": "[encoded data removed]"
     },
     "metadata": {},
     "output_type": "display_data"
    }
   ],
   "execution_count": 54
  },
  {
   "metadata": {
    "ExecuteTime": {
     "end_time": "2025-07-20T15:53:57.982607Z",
     "start_time": "2025-07-20T15:53:57.977874Z"
    }
   },
   "cell_type": "code",
   "source": [
    "# posts commented on the 24th\n",
    "my_df['media_caption'][my_df['day'] == 24].value_counts()"
   ],
   "id": "420b271d72106add",
   "outputs": [
    {
     "data": {
      "text/plain": [
       "media_caption\n",
       "💦GIVEAWAY TIME💦\\n\\nIs your skin craving hydration? 💦 Enter our Lotus Water giveaway for a chance to dive into our newest collection! \\n\\n🪷How to Enter 🪷\\n1. . Give this and our last 3 post a double tap ❤️\\n2. Follow @treehut ✅\\n3. Tag a bestie who would love this 💅\\n4. Share this post on your story🤩\\n\\n**@treehut will be the only account contacting giveaway winners**\\nWinners will be notified by Instagram Direct Message on 3/31/2025 This contest is in no way sponsored, administered, or associated with Instagram, Inc. By entering, entrants confirm they are US Residents 18+ years of age, release Instagram of responsibility and agree to Instagram's terms of use.\\n\\n#treehut #treehutcollection #lotuswater #selfcare #giveaway                                                                                                                                                                                    913\n",
       "APPLICATIONS ARE NOW CLOSED! 🚨 \\nThank you to everyone who applied! 💖\\n\\nBIG NEWS! 🚨 \\n\\nOur 2025 PR List Applications are officially OPEN! 🎉 Want in? Drop “TreeHut PR” in the comments & we’ll send you the link! 💌✨                                                                                                                                                                                                                                                                                                                                                                                                                                                                                                                                                                                                                                                                                                                        254\n",
       "No passport is required when you use our Tropic Glow Collection.\\n\\nGet the ultimate sun-kissed radiance from head to toe, all without leaving your bathroom. 🏝️\\n\\n📸: @someshellyphotography\\n#treehut #treehutcollection #selfcare #tropicglow                                                                                                                                                                                                                                                                                                                                                                                                                                                                                                                                                                                                                                                                                               38\n",
       "Do you agree with these ratings??? 👀🤭 \\n#treehut #treehutsugarscrub #satisfying #asmr #selfcare                                                                                                                                                                                                                                                                                                                                                                                                                                                                                                                                                                                                                                                                                                                                                                                                                                                28\n",
       "Ready to wake up to soft, hydrated lips? 💋✨ \\nEnter our giveaway for a chance to win our Overnight Lip Mask!\\n\\n💋How to Enter 💋\\n1. . Give this and our last 3 post a double tap ❤️\\n2. Follow @treehut ✅\\n3. Tag a bestie who would love this 💅\\n4. Share this post on your story🤩\\n\\n**@treehut will be the only account contacting giveaway winners**\\nWinners will be notified by Instagram Direct Message on 3/24/2025 This contest is in no way sponsored, administered, or associated with Instagram, Inc. By entering, entrants confirm they are US Residents 18+ years of age, release Instagram of responsibility and agree to Instagram's terms of use.\\n\\nShop today @walmart\\n#treehut #treehutcollection #lipcare #selfcare                                                                                                                                                                                                      18\n",
       "These are not your average hand washes. 👀✨ \\n\\nMade with skin-loving ingredients to cleanse, hydrate, and leave your hands feeling silky smooth. Who’s adding this to their routine?\\n\\nShop today @ultabeauty\\n\\n#treehut #treehutcollection #handcare #selfcare                                                                                                                                                                                                                                                                                                                                                                                                                                                                                                                                                                                                                                                                              15\n",
       "Two different vibes, one tough choice 🤔✨ Are you team 🌹 Moroccan Rose or 🥥 Coco Colada? Drop your pick in the comments! 👇\\n\\nShop Tree Hut at @walgreens today!🛍️\\n\\n#treehut #treehutcollection #scrubs #selfcare                                                                                                                                                                                                                                                                                                                                                                                                                                                                                                                                                                                                                                                                                                                              8\n",
       "Soft skin, soft life 🩷🌸🫧 get your hands on this self-care gem!                                                                                                                                                                                                                                                                                                                                                                                                                                                                                                                                                                                                                                                                                                                                                                                                                                                                                  4\n",
       "Freshening up my self-care routine with a new fave! 💧💧                                                                                                                                                                                                                                                                                                                                                                                                                                                                                                                                                                                                                                                                                                                                                                                                                                                                                          4\n",
       "Mixing up the perfect self-care potion \\nWhat’s in your recipe?🫧✨ \\n\\nShop our vanilla collection today @walmart 🍦\\n#treehut #treehutcollection #selfcare #lifestyle                                                                                                                                                                                                                                                                                                                                                                                                                                                                                                                                                                                                                                                                                                                                                                            4\n",
       "With Lotus Water for a radiant boost and Blue Agave to soothe & refresh, this collection is your new glow-to✨                                                                                                                                                                                                                                                                                                                                                                                                                                                                                                                                                                                                                                                                                                                                                                                                                                   4\n",
       "No passport is required when you use our Tropic Glow Collection.\\n\\nGet the ultimate sun-kissed radiance from head to toe, all without leaving your bathroom. 🏝️\\n\\n 📸: @someshellyphotography on IG                                                                                                                                                                                                                                                                                                                                                                                                                                                                                                                                                                                                                                                                                                                                            3\n",
       "You asked… and we delivered📬\\n\\nExcited to introduce NEW scents in our fragrance mist collection: \\n\\n🥥COCO COLADA🥥\\nWith notes of coconut, pineapple, and coconut milk \\n\\n🏖️PASSIONFRUIT SOL🏖️\\nWith notes of hawaiian pineapple, water lily, and a hint of relaxing jasmine \\n\\n🍦VANILLA🍦\\nWith notes of smooth vanilla, warm sandalwood, and coconut cream\\n\\nP.S Misting your hair works perfectly with our alcohol-free formula!\\n\\n#treehut #treehutcollection #newness #fragrancemist #selfcare #cococolada #vanilla #passionfruitsol                                                                                                                                                                                                                                                                                                                                                                                                   2\n",
       "*slams laptop shut* ✌️🚿🌴 click the link to get my fave sugar scrub                                                                                                                                                                                                                                                                                                                                                                                                                                                                                                                                                                                                                                                                                                                                                                                                                                                                              2\n",
       "Run to get my fave for a year-round summer skin! 🏝🫧                                                                                                                                                                                                                                                                                                                                                                                                                                                                                                                                                                                                                                                                                                                                                                                                                                                                                             2\n",
       "What's your self-care alignment?! Ours is somewhere in between chaotic good and chaotic neutral😌                                                                                                                                                                                                                                                                                                                                                                                                                                                                                                                                                                                                                                                                                                                                                                                                                                                2\n",
       "Get a hydrated shave and reduce irritation with this three-step routine!                                                                                                                                                                                                                                                                                                                                                                                                                                                                                                                                                                                                                                                                                                                                                                                                                                                                        2\n",
       "We said what we said✨💅\\n\\n#treehut #treehutcollection #icons                                                                                                                                                                                                                                                                                                                                                                                                                                                                                                                                                                                                                                                                                                                                                                                                                                                                                    2\n",
       "Say goodbye to nicks and hello to smoothness with our Pre-Shave Foaming Polish! Your skins new BFF✨\\n\\nShop today online @amazon!                                                                                                                                                                                                                                                                                                                                                                                                                                                                                                                                                                                                                                                                                                                                                                                                               1\n",
       "Tangerine is all I need 🍊🫧\\nWith a juicy burst of citrus and skin loving ingredients like Vitamin C, this ✨scub✨ brightens, clarifies, and keeps your skin glowing!\\n\\n#treehut #treehutcollection #tangerine                                                                                                                                                                                                                                                                                                                                                                                                                                                                                                                                                                                                                                                                                                                                   1\n",
       "Nightly routine with Tree Hut 🌙 🫧 Now available online and in-store                                                                                                                                                                                                                                                                                                                                                                                                                                                                                                                                                                                                                                                                                                                                                                                                                                                                             1\n",
       "Run to get my fave for a year-round summer skin! 🌙 🫧                                                                                                                                                                                                                                                                                                                                                                                                                                                                                                                                                                                                                                                                                                                                                                                                                                                                                            1\n",
       "If you see me deep in thought in the Tree Hut section @target, you know exactly what I’m up too…💅\\n\\n#treehut #treehutcollection #selfcare #selfcarehaul                                                                                                                                                                                                                                                                                                                                                                                                                                                                                                                                                                                                                                                                                                                                                                                        1\n",
       "When I say I’m walking into @target for a few things… these are the few things I’m talking about💅\\n\\n📸:@leahjane\\nWant to be featured on our page? 🌟 Tag us in your photos or videos using our products, and you might just see yourself glowing on our feed! 💅\\n#treehut #treehutcollection #newness #target #selfcare                                                                                                                                                                                                                                                                                                                                                                                                                                                                                                                                                                                                                         1\n",
       "Cleanse, Smooth, & Hydrate with Energizing Citrus🍊🫧                                                                                                                                                                                                                                                                                                                                                                                                                                                                                                                                                                                                                                                                                                                                                                                                                                                                                             1\n",
       "Trios never work? Our Moroccan Rose shave routine says otherwise.\\n\\nUse our Pre-Shave, Shave Oil, and After Shave for the smoothest, most flawless shave every time🙌\\n\\nFind it in the shave aisle @target!\\n#treehut #treehutcollection #shaveroutine #selfcare                                                                                                                                                                                                                                                                                                                                                                                                                                                                                                                                                                                                                                                                               1\n",
       "Wash, hydrate, repeat with a nourishing blend of ceramides and hyaluronic acid.                                                                                                                                                                                                                                                                                                                                                                                                                                                                                                                                                                                                                                                                                                                                                                                                                                                                 1\n",
       "Self-care so good, it deserves its own gallery🖼️                                                                                                                                                                                                                                                                                                                                                                                                                                                                                                                                                                                                                                                                                                                                                                                                                                                                                                1\n",
       "My go-to feel good, smell good routine! 🩷🌸🫧                                                                                                                                                                                                                                                                                                                                                                                                                                                                                                                                                                                                                                                                                                                                                                                                                                                                                                     1\n",
       "Morning routine with Tree Hut 🍊🫧 Now available online and in-store!                                                                                                                                                                                                                                                                                                                                                                                                                                                                                                                                                                                                                                                                                                                                                                                                                                                                             1\n",
       "✨🌴SPRING BREAK GIVEAWAY 🌴✨\\n\\nWith spring break around the corner, we’re setting you up for the ultimate everything shower—because smooth, glowing skin is a vacay essential! ☀️🏝️\\n\\nEnter now for a chance to win! ⬇️🎉\\n\\n🌺How to Enter 🌺\\n1. . Give this and our last 3 post a double tap ❤️\\n2. Follow @treehut ✅\\n3. Tag a bestie who would love this 💅\\n4. Share this post on your story🤩\\n\\n**@treehut will be the only account contacting giveaway winners**\\nWinners will be notified by Instagram Direct Message on 3/17/2025This contest is in no way sponsored, administered, or associated with Instagram, Inc. By entering, entrants confirm they are US Residents 18+ years of age, release Instagram of responsibility and agree to Instagram's terms of use.\\n\\nLooking for your spring break essentials. Shop the Tropic Glow collection today at @target\\n\\n#treehut #treehutcollection #tropicglow #selfcare #giveaway      1\n",
       "Shave, hydrate, and shine with the Vanilla self-care collection. Available now!                                                                                                                                                                                                                                                                                                                                                                                                                                                                                                                                                                                                                                                                                                                                                                                                                                                                 1\n",
       "An everything shower without the essentials? Couldn’t be us. 💅✨\\n\\nFind Electric Beach, Ocean Glow, and Coco Colada  today @ultabeauty\\n\\n#treehut #treehutcollection #selfcare                                                                                                                                                                                                                                                                                                                                                                                                                                                                                                                                                                                                                                                                                                                                                                 1\n",
       "Sunshine in a jar? Yes, please! 🍊✨\\n\\nOur Tangerine Scrub is more than just exfoliation—it’s powered by Vitamin C to brighten and even skin tone, Turmeric to help soothe and balance, and Salicylic Acid to clarify and smooth. Plus, its zesty citrus blend refreshes and energizes for your juiciest glow yet.\\n\\nFind yours at Meijer today!                                                                                                                                                                                                                                                                                                                                                                                                                                                                                                                                                                                                1\n",
       "Night routine with my go-to sweet fix @treehut 🧁💋                                                                                                                                                                                                                                                                                                                                                                                                                                                                                                                                                                                                                                                                                                                                                                                                                                                                                               1\n",
       "Name: count, dtype: int64"
      ]
     },
     "execution_count": 61,
     "metadata": {},
     "output_type": "execute_result"
    }
   ],
   "execution_count": 61
  },
  {
   "metadata": {},
   "cell_type": "code",
   "outputs": [],
   "execution_count": null,
   "source": "#Lotus Water Giveaway",
   "id": "f9c38b8837727e42"
  },
  {
   "metadata": {},
   "cell_type": "code",
   "outputs": [],
   "execution_count": null,
   "source": [
    "###########\n",
    "# INSIGHT #\n",
    "###########\n",
    "\n",
    "# On the 1st, 10th, 21st, 24th, the first hour or (the first two hours on the 21st) see the engagement go up, then it starts to wane.\n"
   ],
   "id": "be3513d33b80558a"
  },
  {
   "metadata": {
    "ExecuteTime": {
     "end_time": "2025-07-20T16:04:34.011767Z",
     "start_time": "2025-07-20T16:04:34.008197Z"
    }
   },
   "cell_type": "code",
   "source": "my_df.dtypes",
   "id": "bf5ca26e8a275f9b",
   "outputs": [
    {
     "data": {
      "text/plain": [
       "timestamp        datetime64[ns, UTC]\n",
       "media_id                       int64\n",
       "media_caption                 object\n",
       "comment_text                  object\n",
       "year                         float64\n",
       "month                        float64\n",
       "day                          float64\n",
       "hour                         float64\n",
       "dtype: object"
      ]
     },
     "execution_count": 80,
     "metadata": {},
     "output_type": "execute_result"
    }
   ],
   "execution_count": 80
  },
  {
   "metadata": {
    "ExecuteTime": {
     "end_time": "2025-07-20T16:06:09.643783Z",
     "start_time": "2025-07-20T16:06:09.640860Z"
    }
   },
   "cell_type": "code",
   "source": [
    "# Hashtag / Mention analysis\n",
    "\n",
    "#Text processing\n",
    "my_df['comment_text'] = engagements_df['comment_text'].astype('string')"
   ],
   "id": "e117b35255e401ae",
   "outputs": [],
   "execution_count": 81
  },
  {
   "metadata": {},
   "cell_type": "code",
   "outputs": [],
   "execution_count": null,
   "source": "# On the 21st:",
   "id": "301f0c76c8c48cec"
  },
  {
   "metadata": {
    "ExecuteTime": {
     "end_time": "2025-07-20T16:08:05.621260Z",
     "start_time": "2025-07-20T16:08:05.615114Z"
    }
   },
   "cell_type": "code",
   "source": [
    "# my_df['comment_text'][my_df['day'] == 21].str.extractall(r'(\\#\\w+)')[0].value_counts()\n",
    "my_df['comment_text'][my_df['day'] == 21].str.extractall(r'(\\#\\w+)')"
   ],
   "id": "7128bbcc2802b128",
   "outputs": [
    {
     "data": {
      "text/plain": [
       "Empty DataFrame\n",
       "Columns: [0]\n",
       "Index: []"
      ],
      "text/html": [
       "<div>\n",
       "<style scoped>\n",
       "    .dataframe tbody tr th:only-of-type {\n",
       "        vertical-align: middle;\n",
       "    }\n",
       "\n",
       "    .dataframe tbody tr th {\n",
       "        vertical-align: top;\n",
       "    }\n",
       "\n",
       "    .dataframe thead th {\n",
       "        text-align: right;\n",
       "    }\n",
       "</style>\n",
       "<table border=\"1\" class=\"dataframe\">\n",
       "  <thead>\n",
       "    <tr style=\"text-align: right;\">\n",
       "      <th></th>\n",
       "      <th></th>\n",
       "      <th>0</th>\n",
       "    </tr>\n",
       "    <tr>\n",
       "      <th></th>\n",
       "      <th>match</th>\n",
       "      <th></th>\n",
       "    </tr>\n",
       "  </thead>\n",
       "  <tbody>\n",
       "  </tbody>\n",
       "</table>\n",
       "</div>"
      ]
     },
     "execution_count": 88,
     "metadata": {},
     "output_type": "execute_result"
    }
   ],
   "execution_count": 88
  },
  {
   "metadata": {
    "ExecuteTime": {
     "end_time": "2025-07-20T16:13:38.956029Z",
     "start_time": "2025-07-20T16:13:38.949530Z"
    }
   },
   "cell_type": "code",
   "source": "my_df['comment_text'][my_df['day'] == 22].str.extractall(r'(\\#\\w+)')[0].value_counts()",
   "id": "2f4b3b26d5f50a24",
   "outputs": [
    {
     "data": {
      "text/plain": [
       "0\n",
       "#treehut    1\n",
       "#pr         1\n",
       "Name: count, dtype: Int64"
      ]
     },
     "execution_count": 100,
     "metadata": {},
     "output_type": "execute_result"
    }
   ],
   "execution_count": 100
  },
  {
   "metadata": {},
   "cell_type": "code",
   "outputs": [],
   "execution_count": null,
   "source": "#no Hashtags",
   "id": "bced55ddd17657b9"
  },
  {
   "metadata": {
    "ExecuteTime": {
     "end_time": "2025-07-20T16:14:37.694325Z",
     "start_time": "2025-07-20T16:14:37.688096Z"
    }
   },
   "cell_type": "code",
   "source": [
    "# Mentions Analysis\n",
    "my_df['comment_text'][my_df['day'] == 21].str.extractall(r'(\\@\\w+)').count()[0]"
   ],
   "id": "55563e9d99168b2c",
   "outputs": [
    {
     "data": {
      "text/plain": [
       "96"
      ]
     },
     "execution_count": 101,
     "metadata": {},
     "output_type": "execute_result"
    }
   ],
   "execution_count": 101
  },
  {
   "metadata": {
    "ExecuteTime": {
     "end_time": "2025-07-20T16:10:20.860070Z",
     "start_time": "2025-07-20T16:10:20.852971Z"
    }
   },
   "cell_type": "code",
   "source": "my_df['comment_text'][my_df['day'] == 21].str.extractall(r'(\\@\\w+)').value_counts()",
   "id": "6276ba8ab7612279",
   "outputs": [
    {
     "data": {
      "text/plain": [
       "0                  \n",
       "@treehut               35\n",
       "@lovealwaysjeane        2\n",
       "@coastinwithcee         2\n",
       "@_                      1\n",
       "@puffsparklyy           1\n",
       "@maddiemarie1919        1\n",
       "@madifalteisek          1\n",
       "@makeitacombo23         1\n",
       "@marcia                 1\n",
       "@mc25monini             1\n",
       "@mcnewman21             1\n",
       "@megan_moser930         1\n",
       "@missglamerika          1\n",
       "@mrs                    1\n",
       "@ocsiren                1\n",
       "@othernat24             1\n",
       "@rachaelbauer           1\n",
       "@lisasa                 1\n",
       "@rachhross              1\n",
       "@rxnnie                 1\n",
       "@selfcarebeautyyy_      1\n",
       "@sheluvs                1\n",
       "@star                   1\n",
       "@the_girlie_house4      1\n",
       "@theandreamartinez      1\n",
       "@touchland              1\n",
       "@urfavredhead_kylee     1\n",
       "@vanessa                1\n",
       "@veronica               1\n",
       "@lisaschuller76         1\n",
       "@lindzluvvpink          1\n",
       "@aana_kay               1\n",
       "@ferraiolo              1\n",
       "@andreacristina_az      1\n",
       "@beautybygissele        1\n",
       "@bethanypeters0         1\n",
       "@britaneylyn            1\n",
       "@bubble                 1\n",
       "@byoma                  1\n",
       "@celiafendi             1\n",
       "@cozy                   1\n",
       "@elizabeth              1\n",
       "@ellereese_19           1\n",
       "@emma__rose222          1\n",
       "@evelyntakaoka          1\n",
       "@glamby                 1\n",
       "@lashgirlpro            1\n",
       "@grace_xx               1\n",
       "@gracen                 1\n",
       "@its                    1\n",
       "@itsdollphace           1\n",
       "@itskaimonet            1\n",
       "@ittybittybeesknees     1\n",
       "@itzthaz                1\n",
       "@jaaaaaaaaaaaaaac       1\n",
       "@jennag927              1\n",
       "@juhaaa                 1\n",
       "@kykyroelle             1\n",
       "@laneige_us             1\n",
       "@xnatszux               1\n",
       "Name: count, dtype: int64"
      ]
     },
     "execution_count": 94,
     "metadata": {},
     "output_type": "execute_result"
    }
   ],
   "execution_count": 94
  },
  {
   "metadata": {
    "ExecuteTime": {
     "end_time": "2025-07-20T16:12:34.473256Z",
     "start_time": "2025-07-20T16:12:34.467732Z"
    }
   },
   "cell_type": "code",
   "source": [
    "#On the 1st:\n",
    "\n",
    "# Hashtags\n",
    "my_df['comment_text'][my_df['day'] == 1].str.extractall(r'(\\#\\w+)')[0].value_counts()"
   ],
   "id": "6a9a2df70d855f64",
   "outputs": [
    {
     "data": {
      "text/plain": [
       "0\n",
       "#minivlog              2\n",
       "#explorereels          2\n",
       "#asmrvlog              2\n",
       "#lifestylecontent      1\n",
       "#fitfam                1\n",
       "#saturdayvlog          1\n",
       "#outsideworkout        1\n",
       "#runmotivation         1\n",
       "#toriaslife            1\n",
       "#ihateaprilfoolsday    1\n",
       "#lifestyle             1\n",
       "#fitness               1\n",
       "#lifestylevlog         1\n",
       "#saturdaymorning       1\n",
       "#morningrun            1\n",
       "#fyp                   1\n",
       "#treehut               1\n",
       "#hismile               1\n",
       "#boba                  1\n",
       "#runninglife           1\n",
       "#haul                  1\n",
       "Name: count, dtype: Int64"
      ]
     },
     "execution_count": 97,
     "metadata": {},
     "output_type": "execute_result"
    }
   ],
   "execution_count": 97
  },
  {
   "metadata": {
    "ExecuteTime": {
     "end_time": "2025-07-20T16:14:48.652495Z",
     "start_time": "2025-07-20T16:14:48.646581Z"
    }
   },
   "cell_type": "code",
   "source": [
    "# Mentions\n",
    "my_df['comment_text'][my_df['day'] == 1].str.extractall(r'(\\@\\w+)').count()[0]"
   ],
   "id": "209da56e371fef8e",
   "outputs": [
    {
     "data": {
      "text/plain": [
       "426"
      ]
     },
     "execution_count": 102,
     "metadata": {},
     "output_type": "execute_result"
    }
   ],
   "execution_count": 102
  },
  {
   "metadata": {
    "ExecuteTime": {
     "end_time": "2025-07-20T16:15:01.052482Z",
     "start_time": "2025-07-20T16:15:01.045099Z"
    }
   },
   "cell_type": "code",
   "source": "my_df['comment_text'][my_df['day'] == 1].str.extractall(r'(\\@\\w+)').value_counts()",
   "id": "89b359f113ce22b",
   "outputs": [
    {
     "data": {
      "text/plain": [
       "0                  \n",
       "@treehut               27\n",
       "@paulreactss            7\n",
       "@kimoonedits            2\n",
       "@barto20                2\n",
       "@savingsfashionista     2\n",
       "                       ..\n",
       "@floralumbrellaclub     1\n",
       "@fixated                1\n",
       "@filmed_by_claire5      1\n",
       "@fierce_forty78         1\n",
       "@zyan1y                 1\n",
       "Name: count, Length: 382, dtype: int64"
      ]
     },
     "execution_count": 103,
     "metadata": {},
     "output_type": "execute_result"
    }
   ],
   "execution_count": 103
  },
  {
   "metadata": {},
   "cell_type": "code",
   "outputs": [],
   "execution_count": null,
   "source": "# On the 10th",
   "id": "1afa6db22d1ff8a2"
  },
  {
   "metadata": {
    "ExecuteTime": {
     "end_time": "2025-07-20T16:15:56.824203Z",
     "start_time": "2025-07-20T16:15:56.817995Z"
    }
   },
   "cell_type": "code",
   "source": [
    "# Hashtags\n",
    "my_df['comment_text'][my_df['day'] == 10].str.extractall(r'(\\#\\w+)')[0].value_counts()"
   ],
   "id": "fea1c2861d68a7f0",
   "outputs": [
    {
     "data": {
      "text/plain": [
       "0\n",
       "#stories     2\n",
       "#share       2\n",
       "#OBSESSED    2\n",
       "Name: count, dtype: Int64"
      ]
     },
     "execution_count": 104,
     "metadata": {},
     "output_type": "execute_result"
    }
   ],
   "execution_count": 104
  },
  {
   "metadata": {
    "ExecuteTime": {
     "end_time": "2025-07-20T16:16:12.505980Z",
     "start_time": "2025-07-20T16:16:12.499815Z"
    }
   },
   "cell_type": "code",
   "source": [
    "# Mentions\n",
    "my_df['comment_text'][my_df['day'] == 10].str.extractall(r'(\\@\\w+)').count()[0]"
   ],
   "id": "bba32197a18833f1",
   "outputs": [
    {
     "data": {
      "text/plain": [
       "991"
      ]
     },
     "execution_count": 105,
     "metadata": {},
     "output_type": "execute_result"
    }
   ],
   "execution_count": 105
  },
  {
   "metadata": {
    "ExecuteTime": {
     "end_time": "2025-07-20T16:16:29.883344Z",
     "start_time": "2025-07-20T16:16:29.874367Z"
    }
   },
   "cell_type": "code",
   "source": "my_df['comment_text'][my_df['day'] == 10].str.extractall(r'(\\@\\w+)').value_counts()",
   "id": "c6aca14ed3b82f5",
   "outputs": [
    {
     "data": {
      "text/plain": [
       "0               \n",
       "@treehut            70\n",
       "@anaduran1415        4\n",
       "@niquenow            4\n",
       "@a                   3\n",
       "@fa1th               2\n",
       "                    ..\n",
       "@hancockcross        1\n",
       "@hang10jen10         1\n",
       "@hanna_stiles        1\n",
       "@hannahbelle1612     1\n",
       "@zscar48             1\n",
       "Name: count, Length: 889, dtype: int64"
      ]
     },
     "execution_count": 106,
     "metadata": {},
     "output_type": "execute_result"
    }
   ],
   "execution_count": 106
  },
  {
   "metadata": {
    "ExecuteTime": {
     "end_time": "2025-07-20T16:18:27.005090Z",
     "start_time": "2025-07-20T16:18:26.998311Z"
    }
   },
   "cell_type": "code",
   "source": [
    "# On the 24th\n",
    "\n",
    "# Hashtags\n",
    "my_df['comment_text'][my_df['day'] == 24].str.extractall(r'(\\#\\w+)')[0].value_counts()"
   ],
   "id": "730d2e77581064af",
   "outputs": [
    {
     "data": {
      "text/plain": [
       "Series([], Name: count, dtype: Int64)"
      ]
     },
     "execution_count": 107,
     "metadata": {},
     "output_type": "execute_result"
    }
   ],
   "execution_count": 107
  },
  {
   "metadata": {
    "ExecuteTime": {
     "end_time": "2025-07-20T16:18:43.217388Z",
     "start_time": "2025-07-20T16:18:43.210763Z"
    }
   },
   "cell_type": "code",
   "source": [
    "# Mentions\n",
    "my_df['comment_text'][my_df['day'] == 24].str.extractall(r'(\\@\\w+)').count()[0]"
   ],
   "id": "622936506d84e67a",
   "outputs": [
    {
     "data": {
      "text/plain": [
       "952"
      ]
     },
     "execution_count": 108,
     "metadata": {},
     "output_type": "execute_result"
    }
   ],
   "execution_count": 108
  },
  {
   "metadata": {
    "ExecuteTime": {
     "end_time": "2025-07-20T16:19:37.429183Z",
     "start_time": "2025-07-20T16:19:37.420179Z"
    }
   },
   "cell_type": "code",
   "source": "my_df['comment_text'][my_df['day'] == 24].str.extractall(r'(\\@\\w+)').value_counts()",
   "id": "6131b9ae242846f3",
   "outputs": [
    {
     "data": {
      "text/plain": [
       "0                   \n",
       "@treehut                12\n",
       "@colleen_stevenson76     4\n",
       "@amydudiak               2\n",
       "@filmed                  2\n",
       "@alaynaroseberger        2\n",
       "                        ..\n",
       "@hereismeghan            1\n",
       "@hess060504              1\n",
       "@heuislersandi           1\n",
       "@hey_its_harper          1\n",
       "@zoe                     1\n",
       "Name: count, Length: 923, dtype: int64"
      ]
     },
     "execution_count": 109,
     "metadata": {},
     "output_type": "execute_result"
    }
   ],
   "execution_count": 109
  }
 ],
 "metadata": {
  "kernelspec": {
   "display_name": "Python 3",
   "language": "python",
   "name": "python3"
  },
  "language_info": {
   "codemirror_mode": {
    "name": "ipython",
    "version": 2
   },
   "file_extension": ".py",
   "mimetype": "text/x-python",
   "name": "python",
   "nbconvert_exporter": "python",
   "pygments_lexer": "ipython2",
   "version": "2.7.6"
  }
 },
 "nbformat": 4,
 "nbformat_minor": 5
}
